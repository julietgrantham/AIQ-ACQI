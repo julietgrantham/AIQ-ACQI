{
 "cells": [
  {
   "cell_type": "markdown",
   "metadata": {},
   "source": [
    "encoding utf-8 \n",
    "'''\n",
    "@File       : plot_lesion_mips.py\n",
    "@Contact    : shasha.yeung@aiq-solutions.com\n",
    "@License    : (C)Copyright AIQ Solutions 2022\n",
    "\n",
    "@ModifyTime     @Author     @Version        @Description\n",
    "-----------     -------     --------        ------------\n",
    "  username    1.0             None\n",
    "\n",
    "Module Documentation: This script was created to generate lesion mips for the Australian Prostate dataset, using the Sci\n",
    "code 'plotLesionsFucntion.py' in the utils directory.\n",
    "\n",
    "'''"
   ]
  },
  {
   "cell_type": "code",
   "execution_count": 1,
   "metadata": {},
   "outputs": [
    {
     "name": "stderr",
     "output_type": "stream",
     "text": [
      "c:\\Users\\julie\\AppData\\Local\\Programs\\Python\\Python310\\lib\\site-packages\\tqdm\\auto.py:22: TqdmWarning: IProgress not found. Please update jupyter and ipywidgets. See https://ipywidgets.readthedocs.io/en/stable/user_install.html\n",
      "  from .autonotebook import tqdm as notebook_tqdm\n"
     ]
    }
   ],
   "source": [
    "import os\n",
    "import numpy as np\n",
    "import SimpleITK as sitk\n",
    "import glob\n",
    "import nrrd\n",
    "from collections import OrderedDict\n",
    "\n",
    "# Lib files\n",
    "from plotLesionsFunction import plotAndSaveLesions\n",
    "import medical_image_process as img_loader"
   ]
  },
  {
   "cell_type": "code",
   "execution_count": 2,
   "metadata": {},
   "outputs": [],
   "source": [
    "def myNormaliseLabelImg3d(img3):\n",
    "    \"\"\" given an 3D ndarry, normalise the data values and return. \"\"\"\n",
    "    img3_normalised = (img3 - np.min(img3))/(np.max(img3) - np.min(img3))\n",
    "\n",
    "    return img3_normalised"
   ]
  },
  {
   "cell_type": "code",
   "execution_count": 3,
   "metadata": {},
   "outputs": [],
   "source": [
    "def myNormalisedLabelStack(label_list):\n",
    "    \"\"\" given a list of str types, read in nrrd files and convert into one image array.\"\"\"\n",
    "    img3 = 0\n",
    "    header = OrderedDict()\n",
    "    for lab in label_list:\n",
    "        mask = nrrd.read(lab)\n",
    "        img3 = img3 + mask[0]\n",
    "\n",
    "    header = mask[1] # assume all file headers are the same and can just take the last one.\n",
    "    img3_stack = (myNormaliseLabelImg3d(img3), header)\n",
    "    return img3_stack"
   ]
  },
  {
   "cell_type": "code",
   "execution_count": 5,
   "metadata": {},
   "outputs": [],
   "source": [
    "# load images\n",
    "main_dir = 'C:\\\\Users\\\\julie\\\\OneDrive\\\\Documents\\\\AIQ\\\\mip_test\\\\TEST_RETEST\\\\PatientData_Processed'\n",
    "output_dir = '\\\\output_dir'\n",
    "patient_sub_string = '*RP_09'\n",
    "date_sub = '*scan*'\n",
    "ct_dir = [main_dir + f'\\\\{patient_sub_string}\\\\{date_sub}\\\\*ct*']\n",
    "pet_dir = [main_dir + f'\\\\{patient_sub_string}\\\\{date_sub}\\\\*pet*']\n",
    "gtv_dir = [main_dir + f'\\\\{patient_sub_string}\\\\{date_sub}\\\\*lesion*']\n",
    "separate_lesion_MIPs = False"
   ]
  },
  {
   "cell_type": "code",
   "execution_count": 6,
   "metadata": {},
   "outputs": [],
   "source": [
    "dirs = [ct_dir, pet_dir]\n",
    "ImList = []\n",
    "for modal in dirs:\n",
    "    modal_ims = []\n",
    "    for directory in modal:\n",
    "        dir_ims = glob.glob(directory + \"*.nrrd\")\n",
    "        # print(dir_ims)\n",
    "        pt_labels = [xx.replace('_', '-') for xx in dir_ims]\n",
    "        inds = np.argsort(pt_labels).astype(int)\n",
    "        dir_ims = [dir_ims[ii] for ii in inds]\n",
    "        modal_ims.extend(dir_ims)\n",
    "    modal_ims.sort()\n",
    "    ImList.append(modal_ims)"
   ]
  },
  {
   "cell_type": "code",
   "execution_count": 8,
   "metadata": {},
   "outputs": [],
   "source": [
    "labellist = []\n",
    "for directory in gtv_dir:\n",
    "    dir_labs = glob.glob(directory + \"*.nrrd\")\n",
    "    pt_labels = [xx.replace('_', '-') for xx in dir_labs]\n",
    "    inds = np.argsort(pt_labels).astype(int)\n",
    "    dir_labs = [dir_labs[ii] for ii in inds]\n",
    "    labellist.extend(dir_labs)\n",
    "labellist.sort()"
   ]
  },
  {
   "cell_type": "code",
   "execution_count": 10,
   "metadata": {},
   "outputs": [
    {
     "name": "stdout",
     "output_type": "stream",
     "text": [
      "Processing:  RP_09_scan01\n",
      "Saved MIP:  RP_09_scan01\n",
      "Processing:  RP_09_scan02\n",
      "Saved MIP:  RP_09_scan02\n",
      "Done!\n"
     ]
    }
   ],
   "source": [
    "# iterate through all CTS\n",
    "for idx, ct_name in enumerate(ImList[0]):\n",
    "    folders, fname = os.path.split(ct_name)\n",
    "    # ID = ID[0:fname.index('_ctData')]\n",
    "    ID = os.path.split(folders)[-1]\n",
    "\n",
    "    pet = [xx for xx in ImList[1] if ID in xx]\n",
    "    label = [xx for xx in labellist if ID in xx]\n",
    "    output_ID = ID\n",
    "    if len(label) > 1:\n",
    "        if separate_lesion_MIPs:\n",
    "            # if you want to output individual lesions per MIP\n",
    "            if len(label) > 0:\n",
    "                for l in label:\n",
    "                    output_ID = ID + '_' + os.path.split(l)[-1].split('_')[-1].split('.')[0]\n",
    "                    if len(pet) > 0:\n",
    "                        CT, PET, GT, img_info = img_loader.load_PETCT_images([ct_name, pet[0], l],\n",
    "                                                                             resample_voxel_size=[2, 2, 2],\n",
    "                                                                             fillEmpty=False)\n",
    "                        toplot = np.stack((CT, PET))\n",
    "                        imtype = 'PETCT'\n",
    "                    else:\n",
    "                        CT, GT, img_info = img_loader.load_CT_images([ct_name, l],\n",
    "                                                                     resample_voxel_size=[1, 1, 1],\n",
    "                                                                     fillEmpty=False)\n",
    "                        toplot = CT\n",
    "                        imtype = 'CT'\n",
    "\n",
    "                    plotAndSaveLesions(main_dir + output_dir,\n",
    "                                       output_ID,\n",
    "                                       toplot, GT, np.zeros(GT.shape),\n",
    "                                       imtype=imtype,\n",
    "                                       should_plot_lesion_numbers=True,\n",
    "                                       should_plot_response=False,\n",
    "                                       concat_axis=1)\n",
    "        elif not separate_lesion_MIPs:\n",
    "            # stack labels together\n",
    "            print('try stacking')\n",
    "            new_label_stack = myNormalisedLabelStack(label)\n",
    "            filename = main_dir + output_dir + output_ID + '_stacked_lesions.nrrd'\n",
    "            nrrd.write(filename, new_label_stack[0], new_label_stack[1])  # str, data, header\n",
    "\n",
    "            if len(pet) > 0:\n",
    "                CT, PET, GT, img_info = img_loader.load_PETCT_images([ct_name, pet[0], filename],\n",
    "                                                                     resample_voxel_size=[2, 2, 2],\n",
    "                                                                     fillEmpty=False)\n",
    "                toplot = np.stack((CT, PET))\n",
    "                imtype = 'PETCT'\n",
    "            else:\n",
    "                CT, GT, img_info = img_loader.load_CT_images([ct_name, filename],\n",
    "                                                             resample_voxel_size=[1, 1, 1],\n",
    "                                                             fillEmpty=False)\n",
    "                toplot = CT\n",
    "                imtype = 'CT'\n",
    "            print('plotting lesion response.')\n",
    "            plotAndSaveLesions(main_dir + output_dir,\n",
    "                               output_ID,\n",
    "                               toplot, GT, np.zeros(GT.shape),\n",
    "                               imtype=imtype,\n",
    "                               should_plot_lesion_numbers=True,\n",
    "                               should_plot_response=True,\n",
    "                               concat_axis=1)\n",
    "\n",
    "    elif len(label) == 1:\n",
    "        # there is only 1 label\n",
    "        if len(pet) > 0:\n",
    "            CT, PET, GT, img_info = img_loader.load_PETCT_images([ct_name, pet[0], label[0]],\n",
    "                                                                 resample_voxel_size=[2, 2, 2],\n",
    "                                                                 fillEmpty=False)\n",
    "            toplot = np.stack((CT, PET))\n",
    "            imtype = 'PETCT'\n",
    "        else:\n",
    "            CT, GT, img_info = img_loader.load_CT_images([ct_name, label[0]],\n",
    "                                                         resample_voxel_size=[1, 1, 1],\n",
    "                                                         fillEmpty=False)\n",
    "            toplot = CT\n",
    "            imtype = 'CT'\n",
    "\n",
    "        plotAndSaveLesions(main_dir + output_dir,\n",
    "                           output_ID,\n",
    "                           toplot, GT, np.zeros(GT.shape),\n",
    "                           imtype=imtype,\n",
    "                           should_plot_lesion_numbers=True,\n",
    "                           should_plot_response=False,\n",
    "                           concat_axis=1)\n",
    "    else:\n",
    "        # there is no lables\n",
    "        print('can not find labels')\n",
    "\n",
    "print('Done!')\n"
   ]
  }
 ],
 "metadata": {
  "kernelspec": {
   "display_name": "Python 3.10.6 64-bit",
   "language": "python",
   "name": "python3"
  },
  "language_info": {
   "codemirror_mode": {
    "name": "ipython",
    "version": 3
   },
   "file_extension": ".py",
   "mimetype": "text/x-python",
   "name": "python",
   "nbconvert_exporter": "python",
   "pygments_lexer": "ipython3",
   "version": "3.10.6"
  },
  "orig_nbformat": 4,
  "vscode": {
   "interpreter": {
    "hash": "12b7361abc8f2b04328ecda14f13dcf320ed8efb6b3710f7b4817c2e53df4b4c"
   }
  }
 },
 "nbformat": 4,
 "nbformat_minor": 2
}
