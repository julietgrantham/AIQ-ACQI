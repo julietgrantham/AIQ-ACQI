{
 "cells": [
  {
   "cell_type": "code",
   "execution_count": 2,
   "metadata": {},
   "outputs": [],
   "source": [
    "import xnat\n",
    "import pydicom\n",
    "from pydicom import dcmread\n",
    "from pydicom.data import get_testdata_file\n",
    "# import dicom\n",
    "import zipfile\n",
    "import os\n",
    "import shutil\n"
   ]
  },
  {
   "cell_type": "code",
   "execution_count": 3,
   "metadata": {},
   "outputs": [],
   "source": [
    "project_ID = \"TEST_RETEST\"\n",
    "# dir = \"\\\\\\\\uniwa.uwa.edu.au\\\\userhome\\\\staff3\\\\00105493\\\\Downloads\\\\MEL00033\"\n",
    "dir = \"D:\\\\Prostate02_Test_Retest\\\\Sorted_Repeatability_Test_Retest_Jake\"\n",
    "user = \"JulietLi\"\n",
    "password = \"\"\n",
    "#Connect to XNAT session\n",
    "# session = xnat.connect('http://aiqprdeauxnat001.australiaeast.cloudapp.azure.com:8080/xnat-web-1.8.5', user='admin', password='...')\n",
    "session = xnat.connect('http://instance-146-118-67-25.nimbus.pawsey.org.au', user=user, password=password)\n"
   ]
  },
  {
   "cell_type": "code",
   "execution_count": 3,
   "metadata": {},
   "outputs": [],
   "source": [
    "#Function to Zip Directory of Individual Patients\n",
    "def zip_directory(folder_path, zip_path):\n",
    "    with zipfile.ZipFile(zip_path, mode='w') as zipf:\n",
    "        len_dir_path = len(folder_path)\n",
    "        for root, _, files in os.walk(folder_path):\n",
    "            for file in files:\n",
    "                file_path = os.path.join(root, file)\n",
    "                zipf.write(file_path, file_path[len_dir_path:])"
   ]
  },
  {
   "cell_type": "code",
   "execution_count": 4,
   "metadata": {},
   "outputs": [
    {
     "name": "stdout",
     "output_type": "stream",
     "text": [
      "Now Processing: D:\\Prostate02_Test_Retest\\Sorted_Repeatability_Test_Retest_Jake\\RP-25 1\n",
      "D:\\Prostate02_Test_Retest\\Sorted_Repeatability_Test_Retest_Jake\\RP-25 1\\RP-25 1_RP-25_RTst_2021-09-24_155335_PET.NC.Research_Saved.Session..Universal.LesionID.-.ANZUP.(PSMA).2tp.done_n1__00000.zip\n",
      "D:\\Prostate02_Test_Retest\\Sorted_Repeatability_Test_Retest_Jake\\RP-25 1\\1.3.51.0_13128190_CT_2021-09-24_155335_PET.NC.Research_CT.Soft.Tissue.Whole.Body_n246__00000.zip\n",
      "D:\\Prostate02_Test_Retest\\Sorted_Repeatability_Test_Retest_Jake\\RP-25 1\\1.3.51.0_13128190_PT_2021-09-24_155335_PET.NC.Research_PET.WB.AC_n614__00000.zip\n",
      "Now Processing: D:\\Prostate02_Test_Retest\\Sorted_Repeatability_Test_Retest_Jake\\RP-02 2\n",
      "D:\\Prostate02_Test_Retest\\Sorted_Repeatability_Test_Retest_Jake\\RP-02 2\\RP-02 2_RP-02_RTst_2020-07-24_155128_PET.PSMA_Saved.session.2TP.final_n1__00000.zip\n",
      "D:\\Prostate02_Test_Retest\\Sorted_Repeatability_Test_Retest_Jake\\RP-02 2\\2.16.840_662.3912_CT_2020-07-24_155128_PET.PSMA_CT.Soft.Tissue.Whole.Body_n221__00000.zip\n",
      "D:\\Prostate02_Test_Retest\\Sorted_Repeatability_Test_Retest_Jake\\RP-02 2\\2.16.840_662.3912_PT_2020-07-24_155128_PET.PSMA_PET.WB.AC_n551__00000.zip\n",
      "Now Processing: D:\\Prostate02_Test_Retest\\Sorted_Repeatability_Test_Retest_Jake\\RP-08 2\n",
      "D:\\Prostate02_Test_Retest\\Sorted_Repeatability_Test_Retest_Jake\\RP-08 2\\RP-08 2_RP-08_RTst_2020-08-19_162023_PET.PSMA_Saved.Session.2TP.complete_n1__00000.zip\n",
      "D:\\Prostate02_Test_Retest\\Sorted_Repeatability_Test_Retest_Jake\\RP-08 2\\2.16.840_263.2576_PT_2020-08-19_162023_PET.PSMA_PET.WB.AC_n488__00000.zip\n",
      "D:\\Prostate02_Test_Retest\\Sorted_Repeatability_Test_Retest_Jake\\RP-08 2\\2.16.840_263.2576_CT_2020-08-19_162023_PET.PSMA_CT.Soft.Tissue.Whole.Body_n196__00000.zip\n",
      "Now Processing: D:\\Prostate02_Test_Retest\\Sorted_Repeatability_Test_Retest_Jake\\RP-04 1\n",
      "D:\\Prostate02_Test_Retest\\Sorted_Repeatability_Test_Retest_Jake\\RP-04 1\\2.16.840_048.8590_PT_2020-08-12_102305_PET.PSMA_PET.WB.AC_n551__00000.zip\n",
      "D:\\Prostate02_Test_Retest\\Sorted_Repeatability_Test_Retest_Jake\\RP-04 1\\2.16.840_048.8590_CT_2020-08-12_102305_PET.PSMA_CT.Soft.Tissue.Whole.Body_n221__00000.zip\n",
      "D:\\Prostate02_Test_Retest\\Sorted_Repeatability_Test_Retest_Jake\\RP-04 1\\RP-04 1_RP-04_RTst_2020-08-12_102305_PET.PSMA_Saved.Session.2TP.complete_n1__00000.zip\n",
      "Now Processing: D:\\Prostate02_Test_Retest\\Sorted_Repeatability_Test_Retest_Jake\\RP-06 2\n",
      "D:\\Prostate02_Test_Retest\\Sorted_Repeatability_Test_Retest_Jake\\RP-06 2\\RP-06 2_RP-06_RTst_2020-08-26_103226_PET.PSMA_Saved.Session.2TP.complete_n1__00000.zip\n",
      "D:\\Prostate02_Test_Retest\\Sorted_Repeatability_Test_Retest_Jake\\RP-06 2\\2.16.840_743.9369_CT_2020-08-26_103226_PET.PSMA_CT.Soft.Tissue.Whole.Body_n221__00000.zip\n",
      "D:\\Prostate02_Test_Retest\\Sorted_Repeatability_Test_Retest_Jake\\RP-06 2\\2.16.840_743.9369_PT_2020-08-26_103226_PET.PSMA_PET.WB.AC_n551__00000.zip\n",
      "Now Processing: D:\\Prostate02_Test_Retest\\Sorted_Repeatability_Test_Retest_Jake\\RP-21 1\n",
      "D:\\Prostate02_Test_Retest\\Sorted_Repeatability_Test_Retest_Jake\\RP-21 1\\RP-21 1_RP-21_RTst_2021-01-08_142517_PET.NC.F18.PSMA_Saved.Session..Universal.LesionID.-.ANZUP.(PSMA).2tp.done_n1__00000.zip\n",
      "D:\\Prostate02_Test_Retest\\Sorted_Repeatability_Test_Retest_Jake\\RP-21 1\\1.3.51.0_12418903_CT_2021-01-08_142517_PET.NC.F18.PSMA_CT.Soft.Tissue.Whole.Body_n246__00000.zip\n",
      "D:\\Prostate02_Test_Retest\\Sorted_Repeatability_Test_Retest_Jake\\RP-21 1\\1.3.51.0_12418903_PT_2021-01-08_142517_PET.NC.F18.PSMA_PET.WB.AC.(re-recon.2i21s.+t)_n605__00000.zip\n",
      "Now Processing: D:\\Prostate02_Test_Retest\\Sorted_Repeatability_Test_Retest_Jake\\RP-14 1\n",
      "Now Processing: D:\\Prostate02_Test_Retest\\Sorted_Repeatability_Test_Retest_Jake\\RP-10 1\n",
      "Now Processing: D:\\Prostate02_Test_Retest\\Sorted_Repeatability_Test_Retest_Jake\\RP-09 1\n",
      "Now Processing: D:\\Prostate02_Test_Retest\\Sorted_Repeatability_Test_Retest_Jake\\RP-01 2\n",
      "Now Processing: D:\\Prostate02_Test_Retest\\Sorted_Repeatability_Test_Retest_Jake\\RP-03 1\n",
      "Now Processing: D:\\Prostate02_Test_Retest\\Sorted_Repeatability_Test_Retest_Jake\\RP-24 2\n",
      "Now Processing: D:\\Prostate02_Test_Retest\\Sorted_Repeatability_Test_Retest_Jake\\RP-20 2\n",
      "Now Processing: D:\\Prostate02_Test_Retest\\Sorted_Repeatability_Test_Retest_Jake\\RP-05 2\n",
      "Now Processing: D:\\Prostate02_Test_Retest\\Sorted_Repeatability_Test_Retest_Jake\\RP-17 1\n",
      "Now Processing: D:\\Prostate02_Test_Retest\\Sorted_Repeatability_Test_Retest_Jake\\RP-15 2\n",
      "Now Processing: D:\\Prostate02_Test_Retest\\Sorted_Repeatability_Test_Retest_Jake\\RP-13 1\n",
      "Now Processing: D:\\Prostate02_Test_Retest\\Sorted_Repeatability_Test_Retest_Jake\\RP-02 1\n",
      "Now Processing: D:\\Prostate02_Test_Retest\\Sorted_Repeatability_Test_Retest_Jake\\RP-08 1\n",
      "Now Processing: D:\\Prostate02_Test_Retest\\Sorted_Repeatability_Test_Retest_Jake\\RP-25 2\n",
      "Now Processing: D:\\Prostate02_Test_Retest\\Sorted_Repeatability_Test_Retest_Jake\\RP-21 2\n",
      "Now Processing: D:\\Prostate02_Test_Retest\\Sorted_Repeatability_Test_Retest_Jake\\RP-23 1\n",
      "Now Processing: D:\\Prostate02_Test_Retest\\Sorted_Repeatability_Test_Retest_Jake\\RP-04 2\n",
      "Now Processing: D:\\Prostate02_Test_Retest\\Sorted_Repeatability_Test_Retest_Jake\\RP-06 1\n",
      "Now Processing: D:\\Prostate02_Test_Retest\\Sorted_Repeatability_Test_Retest_Jake\\RP-14 2\n",
      "Now Processing: D:\\Prostate02_Test_Retest\\Sorted_Repeatability_Test_Retest_Jake\\RP-10 2\n",
      "Now Processing: D:\\Prostate02_Test_Retest\\Sorted_Repeatability_Test_Retest_Jake\\RP-24 1\n",
      "Now Processing: D:\\Prostate02_Test_Retest\\Sorted_Repeatability_Test_Retest_Jake\\RP-09 2\n",
      "Now Processing: D:\\Prostate02_Test_Retest\\Sorted_Repeatability_Test_Retest_Jake\\RP-01 1\n",
      "Now Processing: D:\\Prostate02_Test_Retest\\Sorted_Repeatability_Test_Retest_Jake\\RP-03 2\n",
      "Now Processing: D:\\Prostate02_Test_Retest\\Sorted_Repeatability_Test_Retest_Jake\\RP-05 1\n",
      "Now Processing: D:\\Prostate02_Test_Retest\\Sorted_Repeatability_Test_Retest_Jake\\RP-20 1\n",
      "Now Processing: D:\\Prostate02_Test_Retest\\Sorted_Repeatability_Test_Retest_Jake\\RP-17 2\n",
      "Now Processing: D:\\Prostate02_Test_Retest\\Sorted_Repeatability_Test_Retest_Jake\\RP-15 1\n",
      "Now Processing: D:\\Prostate02_Test_Retest\\Sorted_Repeatability_Test_Retest_Jake\\RP-13 2\n",
      "Now Processing: D:\\Prostate02_Test_Retest\\Sorted_Repeatability_Test_Retest_Jake\\RP-23 2\n"
     ]
    }
   ],
   "source": [
    "#Remove Zips\n",
    "for subdir in os.listdir(dir):\n",
    "    if (\".csv\" not in subdir) and (\".txt\" not in subdir) and \".\" not in subdir:\n",
    "        print(\"Now Processing: \" + os.path.join(dir, subdir))\n",
    "        for subFolder in os.listdir(os.path.join(dir, subdir)):\n",
    "            if \".zip\" in subFolder:\n",
    "                print(os.path.join(dir, subdir,subFolder))\n",
    "                os.remove(os.path.join(dir, subdir,subFolder))\n",
    "           "
   ]
  },
  {
   "cell_type": "code",
   "execution_count": 5,
   "metadata": {},
   "outputs": [
    {
     "name": "stdout",
     "output_type": "stream",
     "text": [
      "Now Processing: D:\\Prostate02_Test_Retest\\Sorted_Repeatability_Test_Retest_Jake\\RP-25 1\n"
     ]
    },
    {
     "name": "stderr",
     "output_type": "stream",
     "text": [
      "[WARNING] Found unexpect content type, but assuming zip based on the extension\n"
     ]
    },
    {
     "name": "stdout",
     "output_type": "stream",
     "text": [
      "Zipping:  D:\\Prostate02_Test_Retest\\Sorted_Repeatability_Test_Retest_Jake\\RP-25 1\\RP-25 1_RP-25_RTst_2021-09-24_155335_PET.NC.Research_Saved.Session..Universal.LesionID.-.ANZUP.(PSMA).2tp.done_n1__00000\n",
      "Uploading:D:\\Prostate02_Test_Retest\\Sorted_Repeatability_Test_Retest_Jake\\RP-25 1\\RP-25 1_RP-25_RTst_2021-09-24_155335_PET.NC.Research_Saved.Session..Universal.LesionID.-.ANZUP.(PSMA).2tp.done_n1__00000.zip\n",
      "Zipping:  D:\\Prostate02_Test_Retest\\Sorted_Repeatability_Test_Retest_Jake\\RP-25 1\\RP_25_1\n"
     ]
    },
    {
     "name": "stderr",
     "output_type": "stream",
     "text": [
      "[WARNING] Found unexpect content type, but assuming zip based on the extension\n"
     ]
    },
    {
     "name": "stdout",
     "output_type": "stream",
     "text": [
      "Uploading:D:\\Prostate02_Test_Retest\\Sorted_Repeatability_Test_Retest_Jake\\RP-25 1\\RP_25_1.zip\n",
      "Now Processing: D:\\Prostate02_Test_Retest\\Sorted_Repeatability_Test_Retest_Jake\\RP-02 2\n"
     ]
    },
    {
     "name": "stderr",
     "output_type": "stream",
     "text": [
      "[WARNING] Found unexpect content type, but assuming zip based on the extension\n"
     ]
    },
    {
     "name": "stdout",
     "output_type": "stream",
     "text": [
      "Zipping:  D:\\Prostate02_Test_Retest\\Sorted_Repeatability_Test_Retest_Jake\\RP-02 2\\RP-02 2_RP-02_RTst_2020-07-24_155128_PET.PSMA_Saved.session.2TP.final_n1__00000\n",
      "Uploading:D:\\Prostate02_Test_Retest\\Sorted_Repeatability_Test_Retest_Jake\\RP-02 2\\RP-02 2_RP-02_RTst_2020-07-24_155128_PET.PSMA_Saved.session.2TP.final_n1__00000.zip\n",
      "Zipping:  D:\\Prostate02_Test_Retest\\Sorted_Repeatability_Test_Retest_Jake\\RP-02 2\\RP_02_2\n"
     ]
    },
    {
     "name": "stderr",
     "output_type": "stream",
     "text": [
      "[WARNING] Found unexpect content type, but assuming zip based on the extension\n"
     ]
    },
    {
     "name": "stdout",
     "output_type": "stream",
     "text": [
      "Uploading:D:\\Prostate02_Test_Retest\\Sorted_Repeatability_Test_Retest_Jake\\RP-02 2\\RP_02_2.zip\n",
      "Now Processing: D:\\Prostate02_Test_Retest\\Sorted_Repeatability_Test_Retest_Jake\\RP-08 2\n"
     ]
    },
    {
     "name": "stderr",
     "output_type": "stream",
     "text": [
      "[WARNING] Found unexpect content type, but assuming zip based on the extension\n"
     ]
    },
    {
     "name": "stdout",
     "output_type": "stream",
     "text": [
      "Zipping:  D:\\Prostate02_Test_Retest\\Sorted_Repeatability_Test_Retest_Jake\\RP-08 2\\RP-08 2_RP-08_RTst_2020-08-19_162023_PET.PSMA_Saved.Session.2TP.complete_n1__00000\n",
      "Uploading:D:\\Prostate02_Test_Retest\\Sorted_Repeatability_Test_Retest_Jake\\RP-08 2\\RP-08 2_RP-08_RTst_2020-08-19_162023_PET.PSMA_Saved.Session.2TP.complete_n1__00000.zip\n",
      "Zipping:  D:\\Prostate02_Test_Retest\\Sorted_Repeatability_Test_Retest_Jake\\RP-08 2\\RP_08_2\n"
     ]
    },
    {
     "name": "stderr",
     "output_type": "stream",
     "text": [
      "[WARNING] Found unexpect content type, but assuming zip based on the extension\n"
     ]
    },
    {
     "name": "stdout",
     "output_type": "stream",
     "text": [
      "Uploading:D:\\Prostate02_Test_Retest\\Sorted_Repeatability_Test_Retest_Jake\\RP-08 2\\RP_08_2.zip\n",
      "Now Processing: D:\\Prostate02_Test_Retest\\Sorted_Repeatability_Test_Retest_Jake\\RP-04 1\n",
      "Zipping:  D:\\Prostate02_Test_Retest\\Sorted_Repeatability_Test_Retest_Jake\\RP-04 1\\RP_04_1\n"
     ]
    },
    {
     "name": "stderr",
     "output_type": "stream",
     "text": [
      "[WARNING] Found unexpect content type, but assuming zip based on the extension\n"
     ]
    },
    {
     "name": "stdout",
     "output_type": "stream",
     "text": [
      "Uploading:D:\\Prostate02_Test_Retest\\Sorted_Repeatability_Test_Retest_Jake\\RP-04 1\\RP_04_1.zip\n"
     ]
    },
    {
     "name": "stderr",
     "output_type": "stream",
     "text": [
      "[WARNING] Found unexpect content type, but assuming zip based on the extension\n"
     ]
    },
    {
     "name": "stdout",
     "output_type": "stream",
     "text": [
      "Zipping:  D:\\Prostate02_Test_Retest\\Sorted_Repeatability_Test_Retest_Jake\\RP-04 1\\RP-04 1_RP-04_RTst_2020-08-12_102305_PET.PSMA_Saved.Session.2TP.complete_n1__00000\n",
      "Uploading:D:\\Prostate02_Test_Retest\\Sorted_Repeatability_Test_Retest_Jake\\RP-04 1\\RP-04 1_RP-04_RTst_2020-08-12_102305_PET.PSMA_Saved.Session.2TP.complete_n1__00000.zip\n",
      "Now Processing: D:\\Prostate02_Test_Retest\\Sorted_Repeatability_Test_Retest_Jake\\RP-06 2\n"
     ]
    },
    {
     "name": "stderr",
     "output_type": "stream",
     "text": [
      "[WARNING] Found unexpect content type, but assuming zip based on the extension\n"
     ]
    },
    {
     "name": "stdout",
     "output_type": "stream",
     "text": [
      "Zipping:  D:\\Prostate02_Test_Retest\\Sorted_Repeatability_Test_Retest_Jake\\RP-06 2\\RP-06 2_RP-06_RTst_2020-08-26_103226_PET.PSMA_Saved.Session.2TP.complete_n1__00000\n",
      "Uploading:D:\\Prostate02_Test_Retest\\Sorted_Repeatability_Test_Retest_Jake\\RP-06 2\\RP-06 2_RP-06_RTst_2020-08-26_103226_PET.PSMA_Saved.Session.2TP.complete_n1__00000.zip\n",
      "Zipping:  D:\\Prostate02_Test_Retest\\Sorted_Repeatability_Test_Retest_Jake\\RP-06 2\\RP_06_2\n"
     ]
    },
    {
     "name": "stderr",
     "output_type": "stream",
     "text": [
      "[WARNING] Found unexpect content type, but assuming zip based on the extension\n"
     ]
    },
    {
     "name": "stdout",
     "output_type": "stream",
     "text": [
      "Uploading:D:\\Prostate02_Test_Retest\\Sorted_Repeatability_Test_Retest_Jake\\RP-06 2\\RP_06_2.zip\n",
      "Now Processing: D:\\Prostate02_Test_Retest\\Sorted_Repeatability_Test_Retest_Jake\\RP-21 1\n"
     ]
    },
    {
     "name": "stderr",
     "output_type": "stream",
     "text": [
      "[WARNING] Found unexpect content type, but assuming zip based on the extension\n"
     ]
    },
    {
     "name": "stdout",
     "output_type": "stream",
     "text": [
      "Zipping:  D:\\Prostate02_Test_Retest\\Sorted_Repeatability_Test_Retest_Jake\\RP-21 1\\RP-21 1_RP-21_RTst_2021-01-08_142517_PET.NC.F18.PSMA_Saved.Session..Universal.LesionID.-.ANZUP.(PSMA).2tp.done_n1__00000\n",
      "Uploading:D:\\Prostate02_Test_Retest\\Sorted_Repeatability_Test_Retest_Jake\\RP-21 1\\RP-21 1_RP-21_RTst_2021-01-08_142517_PET.NC.F18.PSMA_Saved.Session..Universal.LesionID.-.ANZUP.(PSMA).2tp.done_n1__00000.zip\n",
      "Zipping:  D:\\Prostate02_Test_Retest\\Sorted_Repeatability_Test_Retest_Jake\\RP-21 1\\RP_21_1\n"
     ]
    },
    {
     "name": "stderr",
     "output_type": "stream",
     "text": [
      "[WARNING] Found unexpect content type, but assuming zip based on the extension\n"
     ]
    },
    {
     "name": "stdout",
     "output_type": "stream",
     "text": [
      "Uploading:D:\\Prostate02_Test_Retest\\Sorted_Repeatability_Test_Retest_Jake\\RP-21 1\\RP_21_1.zip\n",
      "Now Processing: D:\\Prostate02_Test_Retest\\Sorted_Repeatability_Test_Retest_Jake\\RP-14 1\n"
     ]
    },
    {
     "name": "stderr",
     "output_type": "stream",
     "text": [
      "[WARNING] Found unexpect content type, but assuming zip based on the extension\n"
     ]
    },
    {
     "name": "stdout",
     "output_type": "stream",
     "text": [
      "Zipping:  D:\\Prostate02_Test_Retest\\Sorted_Repeatability_Test_Retest_Jake\\RP-14 1\\RP-14 1_RP-14_RTst_2020-09-09_153908_PET.PSMA_Saved.Session.2TP.complete_n1__00000\n",
      "Uploading:D:\\Prostate02_Test_Retest\\Sorted_Repeatability_Test_Retest_Jake\\RP-14 1\\RP-14 1_RP-14_RTst_2020-09-09_153908_PET.PSMA_Saved.Session.2TP.complete_n1__00000.zip\n",
      "Zipping:  D:\\Prostate02_Test_Retest\\Sorted_Repeatability_Test_Retest_Jake\\RP-14 1\\RP_14_1\n"
     ]
    },
    {
     "name": "stderr",
     "output_type": "stream",
     "text": [
      "[WARNING] Found unexpect content type, but assuming zip based on the extension\n"
     ]
    },
    {
     "name": "stdout",
     "output_type": "stream",
     "text": [
      "Uploading:D:\\Prostate02_Test_Retest\\Sorted_Repeatability_Test_Retest_Jake\\RP-14 1\\RP_14_1.zip\n",
      "Now Processing: D:\\Prostate02_Test_Retest\\Sorted_Repeatability_Test_Retest_Jake\\RP-10 1\n",
      "Zipping:  D:\\Prostate02_Test_Retest\\Sorted_Repeatability_Test_Retest_Jake\\RP-10 1\\RP_10_1\n"
     ]
    },
    {
     "name": "stderr",
     "output_type": "stream",
     "text": [
      "[WARNING] Found unexpect content type, but assuming zip based on the extension\n"
     ]
    },
    {
     "name": "stdout",
     "output_type": "stream",
     "text": [
      "Uploading:D:\\Prostate02_Test_Retest\\Sorted_Repeatability_Test_Retest_Jake\\RP-10 1\\RP_10_1.zip\n"
     ]
    },
    {
     "name": "stderr",
     "output_type": "stream",
     "text": [
      "[WARNING] Found unexpect content type, but assuming zip based on the extension\n"
     ]
    },
    {
     "name": "stdout",
     "output_type": "stream",
     "text": [
      "Zipping:  D:\\Prostate02_Test_Retest\\Sorted_Repeatability_Test_Retest_Jake\\RP-10 1\\RP-10 1_RP-10_RTst_2020-09-04_160102_PET.PSMA_Saved.Session.2TP.complete_n1__00000\n",
      "Uploading:D:\\Prostate02_Test_Retest\\Sorted_Repeatability_Test_Retest_Jake\\RP-10 1\\RP-10 1_RP-10_RTst_2020-09-04_160102_PET.PSMA_Saved.Session.2TP.complete_n1__00000.zip\n",
      "Now Processing: D:\\Prostate02_Test_Retest\\Sorted_Repeatability_Test_Retest_Jake\\RP-09 1\n",
      "Zipping:  D:\\Prostate02_Test_Retest\\Sorted_Repeatability_Test_Retest_Jake\\RP-09 1\\RP_09_1\n"
     ]
    },
    {
     "name": "stderr",
     "output_type": "stream",
     "text": [
      "[WARNING] Found unexpect content type, but assuming zip based on the extension\n"
     ]
    },
    {
     "name": "stdout",
     "output_type": "stream",
     "text": [
      "Uploading:D:\\Prostate02_Test_Retest\\Sorted_Repeatability_Test_Retest_Jake\\RP-09 1\\RP_09_1.zip\n"
     ]
    },
    {
     "name": "stderr",
     "output_type": "stream",
     "text": [
      "[WARNING] Found unexpect content type, but assuming zip based on the extension\n"
     ]
    },
    {
     "name": "stdout",
     "output_type": "stream",
     "text": [
      "Zipping:  D:\\Prostate02_Test_Retest\\Sorted_Repeatability_Test_Retest_Jake\\RP-09 1\\RP-09 1_RP-09_RTst_2020-08-12_152348_PET.PSMA_Saved.Session.2TP.complete.no.Lspine.due.to.diffuse.disease_n1__00000\n",
      "Uploading:D:\\Prostate02_Test_Retest\\Sorted_Repeatability_Test_Retest_Jake\\RP-09 1\\RP-09 1_RP-09_RTst_2020-08-12_152348_PET.PSMA_Saved.Session.2TP.complete.no.Lspine.due.to.diffuse.disease_n1__00000.zip\n",
      "Now Processing: D:\\Prostate02_Test_Retest\\Sorted_Repeatability_Test_Retest_Jake\\RP-01 2\n"
     ]
    },
    {
     "name": "stderr",
     "output_type": "stream",
     "text": [
      "[WARNING] Found unexpect content type, but assuming zip based on the extension\n"
     ]
    },
    {
     "name": "stdout",
     "output_type": "stream",
     "text": [
      "Zipping:  D:\\Prostate02_Test_Retest\\Sorted_Repeatability_Test_Retest_Jake\\RP-01 2\\RP-01 2_RP-01_RTst_2020-07-24_152428_PET.PSMA_Saved.Session.2TP.complete_n1__00000\n",
      "Uploading:D:\\Prostate02_Test_Retest\\Sorted_Repeatability_Test_Retest_Jake\\RP-01 2\\RP-01 2_RP-01_RTst_2020-07-24_152428_PET.PSMA_Saved.Session.2TP.complete_n1__00000.zip\n",
      "Zipping:  D:\\Prostate02_Test_Retest\\Sorted_Repeatability_Test_Retest_Jake\\RP-01 2\\RP_01_2\n"
     ]
    },
    {
     "name": "stderr",
     "output_type": "stream",
     "text": [
      "[WARNING] Found unexpect content type, but assuming zip based on the extension\n"
     ]
    },
    {
     "name": "stdout",
     "output_type": "stream",
     "text": [
      "Uploading:D:\\Prostate02_Test_Retest\\Sorted_Repeatability_Test_Retest_Jake\\RP-01 2\\RP_01_2.zip\n",
      "Now Processing: D:\\Prostate02_Test_Retest\\Sorted_Repeatability_Test_Retest_Jake\\RP-03 1\n",
      "Zipping:  D:\\Prostate02_Test_Retest\\Sorted_Repeatability_Test_Retest_Jake\\RP-03 1\\RP_03_1\n"
     ]
    },
    {
     "name": "stderr",
     "output_type": "stream",
     "text": [
      "[WARNING] Found unexpect content type, but assuming zip based on the extension\n"
     ]
    },
    {
     "name": "stdout",
     "output_type": "stream",
     "text": [
      "Uploading:D:\\Prostate02_Test_Retest\\Sorted_Repeatability_Test_Retest_Jake\\RP-03 1\\RP_03_1.zip\n"
     ]
    },
    {
     "name": "stderr",
     "output_type": "stream",
     "text": [
      "[WARNING] Found unexpect content type, but assuming zip based on the extension\n"
     ]
    },
    {
     "name": "stdout",
     "output_type": "stream",
     "text": [
      "Zipping:  D:\\Prostate02_Test_Retest\\Sorted_Repeatability_Test_Retest_Jake\\RP-03 1\\RP-03 1_RP-03_RTst_2020-09-23_155501_PET.PSMA_Saved.Session.2TP.complete.ONLY.manual.bladder.wall.lesion_n1__00000\n",
      "Uploading:D:\\Prostate02_Test_Retest\\Sorted_Repeatability_Test_Retest_Jake\\RP-03 1\\RP-03 1_RP-03_RTst_2020-09-23_155501_PET.PSMA_Saved.Session.2TP.complete.ONLY.manual.bladder.wall.lesion_n1__00000.zip\n",
      "Now Processing: D:\\Prostate02_Test_Retest\\Sorted_Repeatability_Test_Retest_Jake\\RP-24 2\n"
     ]
    },
    {
     "name": "stderr",
     "output_type": "stream",
     "text": [
      "[WARNING] Found unexpect content type, but assuming zip based on the extension\n"
     ]
    },
    {
     "name": "stdout",
     "output_type": "stream",
     "text": [
      "Zipping:  D:\\Prostate02_Test_Retest\\Sorted_Repeatability_Test_Retest_Jake\\RP-24 2\\RP-24 2_RP-24_RTst_2021-07-16_143834_PET.NC.F18.PSMA_Saved.Session..Universal.LesionID.-.ANZUP.(PSMA).2tp.done_n1__00000\n",
      "Uploading:D:\\Prostate02_Test_Retest\\Sorted_Repeatability_Test_Retest_Jake\\RP-24 2\\RP-24 2_RP-24_RTst_2021-07-16_143834_PET.NC.F18.PSMA_Saved.Session..Universal.LesionID.-.ANZUP.(PSMA).2tp.done_n1__00000.zip\n",
      "Zipping:  D:\\Prostate02_Test_Retest\\Sorted_Repeatability_Test_Retest_Jake\\RP-24 2\\RP_24_2\n"
     ]
    },
    {
     "name": "stderr",
     "output_type": "stream",
     "text": [
      "[WARNING] Found unexpect content type, but assuming zip based on the extension\n"
     ]
    },
    {
     "name": "stdout",
     "output_type": "stream",
     "text": [
      "Uploading:D:\\Prostate02_Test_Retest\\Sorted_Repeatability_Test_Retest_Jake\\RP-24 2\\RP_24_2.zip\n",
      "Now Processing: D:\\Prostate02_Test_Retest\\Sorted_Repeatability_Test_Retest_Jake\\RP-20 2\n",
      "Zipping:  D:\\Prostate02_Test_Retest\\Sorted_Repeatability_Test_Retest_Jake\\RP-20 2\\RP_20_2\n"
     ]
    },
    {
     "name": "stderr",
     "output_type": "stream",
     "text": [
      "[WARNING] Found unexpect content type, but assuming zip based on the extension\n"
     ]
    },
    {
     "name": "stdout",
     "output_type": "stream",
     "text": [
      "Uploading:D:\\Prostate02_Test_Retest\\Sorted_Repeatability_Test_Retest_Jake\\RP-20 2\\RP_20_2.zip\n"
     ]
    },
    {
     "name": "stderr",
     "output_type": "stream",
     "text": [
      "[WARNING] Found unexpect content type, but assuming zip based on the extension\n"
     ]
    },
    {
     "name": "stdout",
     "output_type": "stream",
     "text": [
      "Zipping:  D:\\Prostate02_Test_Retest\\Sorted_Repeatability_Test_Retest_Jake\\RP-20 2\\RP-20 2_RP-20_RTst_2020-12-23_103734_PET.NC.Research_Saved.Session..Universal.LesionID.-.ANZUP.(PSMA).2TP.done_n1__00000\n",
      "Uploading:D:\\Prostate02_Test_Retest\\Sorted_Repeatability_Test_Retest_Jake\\RP-20 2\\RP-20 2_RP-20_RTst_2020-12-23_103734_PET.NC.Research_Saved.Session..Universal.LesionID.-.ANZUP.(PSMA).2TP.done_n1__00000.zip\n",
      "Now Processing: D:\\Prostate02_Test_Retest\\Sorted_Repeatability_Test_Retest_Jake\\RP-05 2\n"
     ]
    },
    {
     "name": "stderr",
     "output_type": "stream",
     "text": [
      "[WARNING] Found unexpect content type, but assuming zip based on the extension\n"
     ]
    },
    {
     "name": "stdout",
     "output_type": "stream",
     "text": [
      "Zipping:  D:\\Prostate02_Test_Retest\\Sorted_Repeatability_Test_Retest_Jake\\RP-05 2\\RP-05 2_RP-05_RTst_2020-08-28_141229_PET.PSMA_Saved.Session.2TP.final_n1__00000\n",
      "Uploading:D:\\Prostate02_Test_Retest\\Sorted_Repeatability_Test_Retest_Jake\\RP-05 2\\RP-05 2_RP-05_RTst_2020-08-28_141229_PET.PSMA_Saved.Session.2TP.final_n1__00000.zip\n",
      "Zipping:  D:\\Prostate02_Test_Retest\\Sorted_Repeatability_Test_Retest_Jake\\RP-05 2\\RP_05_2\n"
     ]
    },
    {
     "name": "stderr",
     "output_type": "stream",
     "text": [
      "[WARNING] Found unexpect content type, but assuming zip based on the extension\n"
     ]
    },
    {
     "name": "stdout",
     "output_type": "stream",
     "text": [
      "Uploading:D:\\Prostate02_Test_Retest\\Sorted_Repeatability_Test_Retest_Jake\\RP-05 2\\RP_05_2.zip\n",
      "Now Processing: D:\\Prostate02_Test_Retest\\Sorted_Repeatability_Test_Retest_Jake\\RP-17 1\n",
      "Zipping:  D:\\Prostate02_Test_Retest\\Sorted_Repeatability_Test_Retest_Jake\\RP-17 1\\RP_17_1\n"
     ]
    },
    {
     "name": "stderr",
     "output_type": "stream",
     "text": [
      "[WARNING] Found unexpect content type, but assuming zip based on the extension\n"
     ]
    },
    {
     "name": "stdout",
     "output_type": "stream",
     "text": [
      "Uploading:D:\\Prostate02_Test_Retest\\Sorted_Repeatability_Test_Retest_Jake\\RP-17 1\\RP_17_1.zip\n"
     ]
    },
    {
     "name": "stderr",
     "output_type": "stream",
     "text": [
      "[WARNING] Found unexpect content type, but assuming zip based on the extension\n"
     ]
    },
    {
     "name": "stdout",
     "output_type": "stream",
     "text": [
      "Zipping:  D:\\Prostate02_Test_Retest\\Sorted_Repeatability_Test_Retest_Jake\\RP-17 1\\RP-17 1_RP-17_RTst_2020-09-14_133337_PET.PSMA_Saved.Session.2TP.complete.ref.left.femur.due.to.diffuse.mets_n1__00000\n",
      "Uploading:D:\\Prostate02_Test_Retest\\Sorted_Repeatability_Test_Retest_Jake\\RP-17 1\\RP-17 1_RP-17_RTst_2020-09-14_133337_PET.PSMA_Saved.Session.2TP.complete.ref.left.femur.due.to.diffuse.mets_n1__00000.zip\n",
      "Now Processing: D:\\Prostate02_Test_Retest\\Sorted_Repeatability_Test_Retest_Jake\\RP-15 2\n"
     ]
    },
    {
     "name": "stderr",
     "output_type": "stream",
     "text": [
      "[WARNING] Found unexpect content type, but assuming zip based on the extension\n"
     ]
    },
    {
     "name": "stdout",
     "output_type": "stream",
     "text": [
      "Zipping:  D:\\Prostate02_Test_Retest\\Sorted_Repeatability_Test_Retest_Jake\\RP-15 2\\RP-15 2_RP-15_RTst_2020-09-04_165920_PET.PSMA_Saved.Session.2TP.final_n1__00000\n",
      "Uploading:D:\\Prostate02_Test_Retest\\Sorted_Repeatability_Test_Retest_Jake\\RP-15 2\\RP-15 2_RP-15_RTst_2020-09-04_165920_PET.PSMA_Saved.Session.2TP.final_n1__00000.zip\n",
      "Zipping:  D:\\Prostate02_Test_Retest\\Sorted_Repeatability_Test_Retest_Jake\\RP-15 2\\RP_15_2\n"
     ]
    },
    {
     "name": "stderr",
     "output_type": "stream",
     "text": [
      "[WARNING] Found unexpect content type, but assuming zip based on the extension\n"
     ]
    },
    {
     "name": "stdout",
     "output_type": "stream",
     "text": [
      "Uploading:D:\\Prostate02_Test_Retest\\Sorted_Repeatability_Test_Retest_Jake\\RP-15 2\\RP_15_2.zip\n",
      "Now Processing: D:\\Prostate02_Test_Retest\\Sorted_Repeatability_Test_Retest_Jake\\RP-13 1\n",
      "Zipping:  D:\\Prostate02_Test_Retest\\Sorted_Repeatability_Test_Retest_Jake\\RP-13 1\\RP_13_1\n"
     ]
    },
    {
     "name": "stderr",
     "output_type": "stream",
     "text": [
      "[WARNING] Found unexpect content type, but assuming zip based on the extension\n"
     ]
    },
    {
     "name": "stdout",
     "output_type": "stream",
     "text": [
      "Uploading:D:\\Prostate02_Test_Retest\\Sorted_Repeatability_Test_Retest_Jake\\RP-13 1\\RP_13_1.zip\n"
     ]
    },
    {
     "name": "stderr",
     "output_type": "stream",
     "text": [
      "[WARNING] Found unexpect content type, but assuming zip based on the extension\n"
     ]
    },
    {
     "name": "stdout",
     "output_type": "stream",
     "text": [
      "Zipping:  D:\\Prostate02_Test_Retest\\Sorted_Repeatability_Test_Retest_Jake\\RP-13 1\\RP-13 1_RP-13_RTst_2020-09-18_165357_PET.PSMA_Saved.Session.2TP.complete_n1__00000\n",
      "Uploading:D:\\Prostate02_Test_Retest\\Sorted_Repeatability_Test_Retest_Jake\\RP-13 1\\RP-13 1_RP-13_RTst_2020-09-18_165357_PET.PSMA_Saved.Session.2TP.complete_n1__00000.zip\n",
      "Now Processing: D:\\Prostate02_Test_Retest\\Sorted_Repeatability_Test_Retest_Jake\\RP-02 1\n"
     ]
    },
    {
     "name": "stderr",
     "output_type": "stream",
     "text": [
      "[WARNING] Found unexpect content type, but assuming zip based on the extension\n"
     ]
    },
    {
     "name": "stdout",
     "output_type": "stream",
     "text": [
      "Zipping:  D:\\Prostate02_Test_Retest\\Sorted_Repeatability_Test_Retest_Jake\\RP-02 1\\RP-02 1_RP-02_RTst_2020-07-22_114957_PET.PSMA_Saved.session.2TP.final_n1__00000\n",
      "Uploading:D:\\Prostate02_Test_Retest\\Sorted_Repeatability_Test_Retest_Jake\\RP-02 1\\RP-02 1_RP-02_RTst_2020-07-22_114957_PET.PSMA_Saved.session.2TP.final_n1__00000.zip\n",
      "Zipping:  D:\\Prostate02_Test_Retest\\Sorted_Repeatability_Test_Retest_Jake\\RP-02 1\\RP_02_1\n"
     ]
    },
    {
     "name": "stderr",
     "output_type": "stream",
     "text": [
      "[WARNING] Found unexpect content type, but assuming zip based on the extension\n"
     ]
    },
    {
     "name": "stdout",
     "output_type": "stream",
     "text": [
      "Uploading:D:\\Prostate02_Test_Retest\\Sorted_Repeatability_Test_Retest_Jake\\RP-02 1\\RP_02_1.zip\n",
      "Now Processing: D:\\Prostate02_Test_Retest\\Sorted_Repeatability_Test_Retest_Jake\\RP-08 1\n",
      "Zipping:  D:\\Prostate02_Test_Retest\\Sorted_Repeatability_Test_Retest_Jake\\RP-08 1\\RP_08_1\n"
     ]
    },
    {
     "name": "stderr",
     "output_type": "stream",
     "text": [
      "[WARNING] Found unexpect content type, but assuming zip based on the extension\n"
     ]
    },
    {
     "name": "stdout",
     "output_type": "stream",
     "text": [
      "Uploading:D:\\Prostate02_Test_Retest\\Sorted_Repeatability_Test_Retest_Jake\\RP-08 1\\RP_08_1.zip\n"
     ]
    },
    {
     "name": "stderr",
     "output_type": "stream",
     "text": [
      "[WARNING] Found unexpect content type, but assuming zip based on the extension\n"
     ]
    },
    {
     "name": "stdout",
     "output_type": "stream",
     "text": [
      "Zipping:  D:\\Prostate02_Test_Retest\\Sorted_Repeatability_Test_Retest_Jake\\RP-08 1\\RP-08 1_RP-08_RTst_2020-08-12_155341_PET.PSMA_Saved.Session.2TP.complete_n1__00000\n",
      "Uploading:D:\\Prostate02_Test_Retest\\Sorted_Repeatability_Test_Retest_Jake\\RP-08 1\\RP-08 1_RP-08_RTst_2020-08-12_155341_PET.PSMA_Saved.Session.2TP.complete_n1__00000.zip\n",
      "Now Processing: D:\\Prostate02_Test_Retest\\Sorted_Repeatability_Test_Retest_Jake\\RP-25 2\n"
     ]
    },
    {
     "name": "stderr",
     "output_type": "stream",
     "text": [
      "[WARNING] Found unexpect content type, but assuming zip based on the extension\n"
     ]
    },
    {
     "name": "stdout",
     "output_type": "stream",
     "text": [
      "Zipping:  D:\\Prostate02_Test_Retest\\Sorted_Repeatability_Test_Retest_Jake\\RP-25 2\\RP-25 2_RP-25_RTst_2021-10-01_151454_PET.NC.Research_Saved.Session..Universal.LesionID.-.ANZUP.(PSMA).2tp.done_n1__00000\n",
      "Uploading:D:\\Prostate02_Test_Retest\\Sorted_Repeatability_Test_Retest_Jake\\RP-25 2\\RP-25 2_RP-25_RTst_2021-10-01_151454_PET.NC.Research_Saved.Session..Universal.LesionID.-.ANZUP.(PSMA).2tp.done_n1__00000.zip\n",
      "Zipping:  D:\\Prostate02_Test_Retest\\Sorted_Repeatability_Test_Retest_Jake\\RP-25 2\\RP_25_2\n"
     ]
    },
    {
     "name": "stderr",
     "output_type": "stream",
     "text": [
      "[WARNING] Found unexpect content type, but assuming zip based on the extension\n"
     ]
    },
    {
     "name": "stdout",
     "output_type": "stream",
     "text": [
      "Uploading:D:\\Prostate02_Test_Retest\\Sorted_Repeatability_Test_Retest_Jake\\RP-25 2\\RP_25_2.zip\n",
      "Now Processing: D:\\Prostate02_Test_Retest\\Sorted_Repeatability_Test_Retest_Jake\\RP-21 2\n"
     ]
    },
    {
     "name": "stderr",
     "output_type": "stream",
     "text": [
      "[WARNING] Found unexpect content type, but assuming zip based on the extension\n"
     ]
    },
    {
     "name": "stdout",
     "output_type": "stream",
     "text": [
      "Zipping:  D:\\Prostate02_Test_Retest\\Sorted_Repeatability_Test_Retest_Jake\\RP-21 2\\RP-21 2_RP-21_RTst_2021-01-15_140643_PET.NC.Research_Saved.Session..Universal.LesionID.-.ANZUP.(PSMA).2tp.done_n1__00000\n",
      "Uploading:D:\\Prostate02_Test_Retest\\Sorted_Repeatability_Test_Retest_Jake\\RP-21 2\\RP-21 2_RP-21_RTst_2021-01-15_140643_PET.NC.Research_Saved.Session..Universal.LesionID.-.ANZUP.(PSMA).2tp.done_n1__00000.zip\n",
      "Zipping:  D:\\Prostate02_Test_Retest\\Sorted_Repeatability_Test_Retest_Jake\\RP-21 2\\RP_21_2\n"
     ]
    },
    {
     "name": "stderr",
     "output_type": "stream",
     "text": [
      "[WARNING] Found unexpect content type, but assuming zip based on the extension\n"
     ]
    },
    {
     "name": "stdout",
     "output_type": "stream",
     "text": [
      "Uploading:D:\\Prostate02_Test_Retest\\Sorted_Repeatability_Test_Retest_Jake\\RP-21 2\\RP_21_2.zip\n",
      "Now Processing: D:\\Prostate02_Test_Retest\\Sorted_Repeatability_Test_Retest_Jake\\RP-04 2\n",
      "Zipping:  D:\\Prostate02_Test_Retest\\Sorted_Repeatability_Test_Retest_Jake\\RP-04 2\\RP_04_2\n"
     ]
    },
    {
     "name": "stderr",
     "output_type": "stream",
     "text": [
      "[WARNING] Found unexpect content type, but assuming zip based on the extension\n"
     ]
    },
    {
     "name": "stdout",
     "output_type": "stream",
     "text": [
      "Uploading:D:\\Prostate02_Test_Retest\\Sorted_Repeatability_Test_Retest_Jake\\RP-04 2\\RP_04_2.zip\n"
     ]
    },
    {
     "name": "stderr",
     "output_type": "stream",
     "text": [
      "[WARNING] Found unexpect content type, but assuming zip based on the extension\n"
     ]
    },
    {
     "name": "stdout",
     "output_type": "stream",
     "text": [
      "Zipping:  D:\\Prostate02_Test_Retest\\Sorted_Repeatability_Test_Retest_Jake\\RP-04 2\\RP-04 2_RP-04_RTst_2020-08-19_103057_PET.PSMA_Saved.Session.2TP.complete_n1__00000\n",
      "Uploading:D:\\Prostate02_Test_Retest\\Sorted_Repeatability_Test_Retest_Jake\\RP-04 2\\RP-04 2_RP-04_RTst_2020-08-19_103057_PET.PSMA_Saved.Session.2TP.complete_n1__00000.zip\n",
      "Now Processing: D:\\Prostate02_Test_Retest\\Sorted_Repeatability_Test_Retest_Jake\\RP-06 1\n"
     ]
    },
    {
     "name": "stderr",
     "output_type": "stream",
     "text": [
      "[WARNING] Found unexpect content type, but assuming zip based on the extension\n"
     ]
    },
    {
     "name": "stdout",
     "output_type": "stream",
     "text": [
      "Zipping:  D:\\Prostate02_Test_Retest\\Sorted_Repeatability_Test_Retest_Jake\\RP-06 1\\RP-06 1_RP-06_RTst_2020-08-21_152115_PET.PSMA_Saved.Session.2TP.complete_n1__00000\n",
      "Uploading:D:\\Prostate02_Test_Retest\\Sorted_Repeatability_Test_Retest_Jake\\RP-06 1\\RP-06 1_RP-06_RTst_2020-08-21_152115_PET.PSMA_Saved.Session.2TP.complete_n1__00000.zip\n",
      "Zipping:  D:\\Prostate02_Test_Retest\\Sorted_Repeatability_Test_Retest_Jake\\RP-06 1\\RP_06_1\n"
     ]
    },
    {
     "name": "stderr",
     "output_type": "stream",
     "text": [
      "[WARNING] Found unexpect content type, but assuming zip based on the extension\n"
     ]
    },
    {
     "name": "stdout",
     "output_type": "stream",
     "text": [
      "Uploading:D:\\Prostate02_Test_Retest\\Sorted_Repeatability_Test_Retest_Jake\\RP-06 1\\RP_06_1.zip\n",
      "Now Processing: D:\\Prostate02_Test_Retest\\Sorted_Repeatability_Test_Retest_Jake\\RP-14 2\n"
     ]
    },
    {
     "name": "stderr",
     "output_type": "stream",
     "text": [
      "[WARNING] Found unexpect content type, but assuming zip based on the extension\n"
     ]
    },
    {
     "name": "stdout",
     "output_type": "stream",
     "text": [
      "Zipping:  D:\\Prostate02_Test_Retest\\Sorted_Repeatability_Test_Retest_Jake\\RP-14 2\\RP-14 2_RP-14_RTst_2020-09-11_151330_PET.PSMA_Saved.Session.2TP.complete_n1__00000\n",
      "Uploading:D:\\Prostate02_Test_Retest\\Sorted_Repeatability_Test_Retest_Jake\\RP-14 2\\RP-14 2_RP-14_RTst_2020-09-11_151330_PET.PSMA_Saved.Session.2TP.complete_n1__00000.zip\n",
      "Zipping:  D:\\Prostate02_Test_Retest\\Sorted_Repeatability_Test_Retest_Jake\\RP-14 2\\RP_14_2\n"
     ]
    },
    {
     "name": "stderr",
     "output_type": "stream",
     "text": [
      "[WARNING] Found unexpect content type, but assuming zip based on the extension\n"
     ]
    },
    {
     "name": "stdout",
     "output_type": "stream",
     "text": [
      "Uploading:D:\\Prostate02_Test_Retest\\Sorted_Repeatability_Test_Retest_Jake\\RP-14 2\\RP_14_2.zip\n",
      "Now Processing: D:\\Prostate02_Test_Retest\\Sorted_Repeatability_Test_Retest_Jake\\RP-10 2\n"
     ]
    },
    {
     "name": "stderr",
     "output_type": "stream",
     "text": [
      "[WARNING] Found unexpect content type, but assuming zip based on the extension\n"
     ]
    },
    {
     "name": "stdout",
     "output_type": "stream",
     "text": [
      "Zipping:  D:\\Prostate02_Test_Retest\\Sorted_Repeatability_Test_Retest_Jake\\RP-10 2\\RP-10 2_RP-10_RTst_2020-09-09_105946_PET.PSMA_Saved.Session.2TP.complete_n1__00000\n",
      "Uploading:D:\\Prostate02_Test_Retest\\Sorted_Repeatability_Test_Retest_Jake\\RP-10 2\\RP-10 2_RP-10_RTst_2020-09-09_105946_PET.PSMA_Saved.Session.2TP.complete_n1__00000.zip\n",
      "Zipping:  D:\\Prostate02_Test_Retest\\Sorted_Repeatability_Test_Retest_Jake\\RP-10 2\\RP_10_2\n"
     ]
    },
    {
     "name": "stderr",
     "output_type": "stream",
     "text": [
      "[WARNING] Found unexpect content type, but assuming zip based on the extension\n"
     ]
    },
    {
     "name": "stdout",
     "output_type": "stream",
     "text": [
      "Uploading:D:\\Prostate02_Test_Retest\\Sorted_Repeatability_Test_Retest_Jake\\RP-10 2\\RP_10_2.zip\n",
      "Now Processing: D:\\Prostate02_Test_Retest\\Sorted_Repeatability_Test_Retest_Jake\\RP-24 1\n",
      "Zipping:  D:\\Prostate02_Test_Retest\\Sorted_Repeatability_Test_Retest_Jake\\RP-24 1\\RP_24_1\n"
     ]
    },
    {
     "name": "stderr",
     "output_type": "stream",
     "text": [
      "[WARNING] Found unexpect content type, but assuming zip based on the extension\n"
     ]
    },
    {
     "name": "stdout",
     "output_type": "stream",
     "text": [
      "Uploading:D:\\Prostate02_Test_Retest\\Sorted_Repeatability_Test_Retest_Jake\\RP-24 1\\RP_24_1.zip\n"
     ]
    },
    {
     "name": "stderr",
     "output_type": "stream",
     "text": [
      "[WARNING] Found unexpect content type, but assuming zip based on the extension\n"
     ]
    },
    {
     "name": "stdout",
     "output_type": "stream",
     "text": [
      "Zipping:  D:\\Prostate02_Test_Retest\\Sorted_Repeatability_Test_Retest_Jake\\RP-24 1\\RP-24 1_RP-24_RTst_2021-07-09_143315_PET.NC.Research_Saved.Session..Universal.LesionID.-.ANZUP.(PSMA).2tp.done_n1__00000\n",
      "Uploading:D:\\Prostate02_Test_Retest\\Sorted_Repeatability_Test_Retest_Jake\\RP-24 1\\RP-24 1_RP-24_RTst_2021-07-09_143315_PET.NC.Research_Saved.Session..Universal.LesionID.-.ANZUP.(PSMA).2tp.done_n1__00000.zip\n",
      "Now Processing: D:\\Prostate02_Test_Retest\\Sorted_Repeatability_Test_Retest_Jake\\RP-09 2\n"
     ]
    },
    {
     "name": "stderr",
     "output_type": "stream",
     "text": [
      "[WARNING] Found unexpect content type, but assuming zip based on the extension\n"
     ]
    },
    {
     "name": "stdout",
     "output_type": "stream",
     "text": [
      "Zipping:  D:\\Prostate02_Test_Retest\\Sorted_Repeatability_Test_Retest_Jake\\RP-09 2\\RP-09 2_RP-09_RTst_2020-08-19_113641_PET.PSMA_Saved.Session.2TP.complete.no.Lspine.due.to.diffuse.disease_n1__00000\n",
      "Uploading:D:\\Prostate02_Test_Retest\\Sorted_Repeatability_Test_Retest_Jake\\RP-09 2\\RP-09 2_RP-09_RTst_2020-08-19_113641_PET.PSMA_Saved.Session.2TP.complete.no.Lspine.due.to.diffuse.disease_n1__00000.zip\n",
      "Zipping:  D:\\Prostate02_Test_Retest\\Sorted_Repeatability_Test_Retest_Jake\\RP-09 2\\RP_09_2\n"
     ]
    },
    {
     "name": "stderr",
     "output_type": "stream",
     "text": [
      "[WARNING] Found unexpect content type, but assuming zip based on the extension\n"
     ]
    },
    {
     "name": "stdout",
     "output_type": "stream",
     "text": [
      "Uploading:D:\\Prostate02_Test_Retest\\Sorted_Repeatability_Test_Retest_Jake\\RP-09 2\\RP_09_2.zip\n",
      "Now Processing: D:\\Prostate02_Test_Retest\\Sorted_Repeatability_Test_Retest_Jake\\RP-01 1\n"
     ]
    },
    {
     "name": "stderr",
     "output_type": "stream",
     "text": [
      "[WARNING] Found unexpect content type, but assuming zip based on the extension\n"
     ]
    },
    {
     "name": "stdout",
     "output_type": "stream",
     "text": [
      "Zipping:  D:\\Prostate02_Test_Retest\\Sorted_Repeatability_Test_Retest_Jake\\RP-01 1\\RP-01 1_RP-01_RTst_2020-07-22_112045_PET.PSMA_Saved.Session.2TP.complete_n1__00000\n",
      "Uploading:D:\\Prostate02_Test_Retest\\Sorted_Repeatability_Test_Retest_Jake\\RP-01 1\\RP-01 1_RP-01_RTst_2020-07-22_112045_PET.PSMA_Saved.Session.2TP.complete_n1__00000.zip\n",
      "Zipping:  D:\\Prostate02_Test_Retest\\Sorted_Repeatability_Test_Retest_Jake\\RP-01 1\\RP_01_1\n"
     ]
    },
    {
     "name": "stderr",
     "output_type": "stream",
     "text": [
      "[WARNING] Found unexpect content type, but assuming zip based on the extension\n"
     ]
    },
    {
     "name": "stdout",
     "output_type": "stream",
     "text": [
      "Uploading:D:\\Prostate02_Test_Retest\\Sorted_Repeatability_Test_Retest_Jake\\RP-01 1\\RP_01_1.zip\n",
      "Now Processing: D:\\Prostate02_Test_Retest\\Sorted_Repeatability_Test_Retest_Jake\\RP-03 2\n",
      "Zipping:  D:\\Prostate02_Test_Retest\\Sorted_Repeatability_Test_Retest_Jake\\RP-03 2\\RP_03_2\n"
     ]
    },
    {
     "name": "stderr",
     "output_type": "stream",
     "text": [
      "[WARNING] Found unexpect content type, but assuming zip based on the extension\n"
     ]
    },
    {
     "name": "stdout",
     "output_type": "stream",
     "text": [
      "Uploading:D:\\Prostate02_Test_Retest\\Sorted_Repeatability_Test_Retest_Jake\\RP-03 2\\RP_03_2.zip\n"
     ]
    },
    {
     "name": "stderr",
     "output_type": "stream",
     "text": [
      "[WARNING] Found unexpect content type, but assuming zip based on the extension\n"
     ]
    },
    {
     "name": "stdout",
     "output_type": "stream",
     "text": [
      "Zipping:  D:\\Prostate02_Test_Retest\\Sorted_Repeatability_Test_Retest_Jake\\RP-03 2\\RP-03 2_RP-03_RTst_2020-09-25_144049_PET.PSMA_Saved.Session.2TP.complete.ONLY.manual.bladder.wall.lesion_n1__00000\n",
      "Uploading:D:\\Prostate02_Test_Retest\\Sorted_Repeatability_Test_Retest_Jake\\RP-03 2\\RP-03 2_RP-03_RTst_2020-09-25_144049_PET.PSMA_Saved.Session.2TP.complete.ONLY.manual.bladder.wall.lesion_n1__00000.zip\n",
      "Now Processing: D:\\Prostate02_Test_Retest\\Sorted_Repeatability_Test_Retest_Jake\\RP-05 1\n"
     ]
    },
    {
     "name": "stderr",
     "output_type": "stream",
     "text": [
      "[WARNING] Found unexpect content type, but assuming zip based on the extension\n"
     ]
    },
    {
     "name": "stdout",
     "output_type": "stream",
     "text": [
      "Zipping:  D:\\Prostate02_Test_Retest\\Sorted_Repeatability_Test_Retest_Jake\\RP-05 1\\RP-05 1_RP-05_RTst_2020-08-21_133953_PET.PSMA_Saved.Session.2TP.final_n1__00000\n",
      "Uploading:D:\\Prostate02_Test_Retest\\Sorted_Repeatability_Test_Retest_Jake\\RP-05 1\\RP-05 1_RP-05_RTst_2020-08-21_133953_PET.PSMA_Saved.Session.2TP.final_n1__00000.zip\n",
      "Zipping:  D:\\Prostate02_Test_Retest\\Sorted_Repeatability_Test_Retest_Jake\\RP-05 1\\RP_05_1\n"
     ]
    },
    {
     "name": "stderr",
     "output_type": "stream",
     "text": [
      "[WARNING] Found unexpect content type, but assuming zip based on the extension\n"
     ]
    },
    {
     "name": "stdout",
     "output_type": "stream",
     "text": [
      "Uploading:D:\\Prostate02_Test_Retest\\Sorted_Repeatability_Test_Retest_Jake\\RP-05 1\\RP_05_1.zip\n",
      "Now Processing: D:\\Prostate02_Test_Retest\\Sorted_Repeatability_Test_Retest_Jake\\RP-20 1\n"
     ]
    },
    {
     "name": "stderr",
     "output_type": "stream",
     "text": [
      "[WARNING] Found unexpect content type, but assuming zip based on the extension\n"
     ]
    },
    {
     "name": "stdout",
     "output_type": "stream",
     "text": [
      "Zipping:  D:\\Prostate02_Test_Retest\\Sorted_Repeatability_Test_Retest_Jake\\RP-20 1\\RP-20 1_RP-20_RTst_2020-12-18_103229_PET.NC.Research_Saved.Session..Universal.LesionID.-.ANZUP.(PSMA).2TP.done_n1__00000\n",
      "Uploading:D:\\Prostate02_Test_Retest\\Sorted_Repeatability_Test_Retest_Jake\\RP-20 1\\RP-20 1_RP-20_RTst_2020-12-18_103229_PET.NC.Research_Saved.Session..Universal.LesionID.-.ANZUP.(PSMA).2TP.done_n1__00000.zip\n",
      "Zipping:  D:\\Prostate02_Test_Retest\\Sorted_Repeatability_Test_Retest_Jake\\RP-20 1\\RP_20_1\n"
     ]
    },
    {
     "name": "stderr",
     "output_type": "stream",
     "text": [
      "[WARNING] Found unexpect content type, but assuming zip based on the extension\n"
     ]
    },
    {
     "name": "stdout",
     "output_type": "stream",
     "text": [
      "Uploading:D:\\Prostate02_Test_Retest\\Sorted_Repeatability_Test_Retest_Jake\\RP-20 1\\RP_20_1.zip\n",
      "Now Processing: D:\\Prostate02_Test_Retest\\Sorted_Repeatability_Test_Retest_Jake\\RP-17 2\n",
      "Zipping:  D:\\Prostate02_Test_Retest\\Sorted_Repeatability_Test_Retest_Jake\\RP-17 2\\RP_17_2\n"
     ]
    },
    {
     "name": "stderr",
     "output_type": "stream",
     "text": [
      "[WARNING] Found unexpect content type, but assuming zip based on the extension\n"
     ]
    },
    {
     "name": "stdout",
     "output_type": "stream",
     "text": [
      "Uploading:D:\\Prostate02_Test_Retest\\Sorted_Repeatability_Test_Retest_Jake\\RP-17 2\\RP_17_2.zip\n"
     ]
    },
    {
     "name": "stderr",
     "output_type": "stream",
     "text": [
      "[WARNING] Found unexpect content type, but assuming zip based on the extension\n"
     ]
    },
    {
     "name": "stdout",
     "output_type": "stream",
     "text": [
      "Zipping:  D:\\Prostate02_Test_Retest\\Sorted_Repeatability_Test_Retest_Jake\\RP-17 2\\RP-17 2_RP-17_RTst_2020-09-16_102821_PET.PSMA_Saved.Session.2TP.complete.ref.left.femur.due.to.diffuse.mets_n1__00000\n",
      "Uploading:D:\\Prostate02_Test_Retest\\Sorted_Repeatability_Test_Retest_Jake\\RP-17 2\\RP-17 2_RP-17_RTst_2020-09-16_102821_PET.PSMA_Saved.Session.2TP.complete.ref.left.femur.due.to.diffuse.mets_n1__00000.zip\n",
      "Now Processing: D:\\Prostate02_Test_Retest\\Sorted_Repeatability_Test_Retest_Jake\\RP-15 1\n"
     ]
    },
    {
     "name": "stderr",
     "output_type": "stream",
     "text": [
      "[WARNING] Found unexpect content type, but assuming zip based on the extension\n"
     ]
    },
    {
     "name": "stdout",
     "output_type": "stream",
     "text": [
      "Zipping:  D:\\Prostate02_Test_Retest\\Sorted_Repeatability_Test_Retest_Jake\\RP-15 1\\RP-15 1_RP-15_RTst_2020-09-02_112506_PET.PSMA_Saved.Session.2TP.final_n1__00000\n",
      "Uploading:D:\\Prostate02_Test_Retest\\Sorted_Repeatability_Test_Retest_Jake\\RP-15 1\\RP-15 1_RP-15_RTst_2020-09-02_112506_PET.PSMA_Saved.Session.2TP.final_n1__00000.zip\n",
      "Zipping:  D:\\Prostate02_Test_Retest\\Sorted_Repeatability_Test_Retest_Jake\\RP-15 1\\RP_15_1\n"
     ]
    },
    {
     "name": "stderr",
     "output_type": "stream",
     "text": [
      "[WARNING] Found unexpect content type, but assuming zip based on the extension\n"
     ]
    },
    {
     "name": "stdout",
     "output_type": "stream",
     "text": [
      "Uploading:D:\\Prostate02_Test_Retest\\Sorted_Repeatability_Test_Retest_Jake\\RP-15 1\\RP_15_1.zip\n",
      "Now Processing: D:\\Prostate02_Test_Retest\\Sorted_Repeatability_Test_Retest_Jake\\RP-13 2\n",
      "Zipping:  D:\\Prostate02_Test_Retest\\Sorted_Repeatability_Test_Retest_Jake\\RP-13 2\\RP_13_2\n"
     ]
    },
    {
     "name": "stderr",
     "output_type": "stream",
     "text": [
      "[WARNING] Found unexpect content type, but assuming zip based on the extension\n"
     ]
    },
    {
     "name": "stdout",
     "output_type": "stream",
     "text": [
      "Uploading:D:\\Prostate02_Test_Retest\\Sorted_Repeatability_Test_Retest_Jake\\RP-13 2\\RP_13_2.zip\n"
     ]
    },
    {
     "name": "stderr",
     "output_type": "stream",
     "text": [
      "[WARNING] Found unexpect content type, but assuming zip based on the extension\n"
     ]
    },
    {
     "name": "stdout",
     "output_type": "stream",
     "text": [
      "Zipping:  D:\\Prostate02_Test_Retest\\Sorted_Repeatability_Test_Retest_Jake\\RP-13 2\\RP-13 2_RP-13_RTst_2020-09-25_161912_PET.PSMA_Saved.Session.2TP.complete_n1__00000\n",
      "Uploading:D:\\Prostate02_Test_Retest\\Sorted_Repeatability_Test_Retest_Jake\\RP-13 2\\RP-13 2_RP-13_RTst_2020-09-25_161912_PET.PSMA_Saved.Session.2TP.complete_n1__00000.zip\n"
     ]
    }
   ],
   "source": [
    "for subdir in os.listdir(dir):\n",
    "    if (\".csv\" not in subdir) and (\".txt\" not in subdir) and \".\" not in subdir:\n",
    "        print(\"Now Processing: \" + os.path.join(dir, subdir))\n",
    "        ct = False\n",
    "        pt = False\n",
    "        if not os.path.exists(os.path.join(dir,subdir,\"_\".join(subdir.split(' ')).replace(\"-\",\"_\"))):\n",
    "            os.makedirs(os.path.join(dir,subdir,\"_\".join(subdir.split(' ')).replace(\"-\",\"_\")))\n",
    "        for subFolder in os.listdir(os.path.join(dir, subdir)):\n",
    "            if (\"RTst\" in subFolder) and os.path.isdir(os.path.join(dir, subdir,subFolder)):\n",
    "                for file in os.listdir(os.path.join(dir, subdir,subFolder)):\n",
    "                    if \".dcm\" in file and file[0] != \".\":\n",
    "                        ds = pydicom.read_file(os.path.join(dir, subdir,subFolder,file))\n",
    "                        if len(subdir.split(' ')) > 1:\n",
    "                            pc_value = \"Project:\" + project_ID + \" Subject:\" + subdir.split(' ')[-2].replace(\"-\",\"_\") + \" Session:\" + \"_\".join(subdir.split(' ')).replace(\"-\",\"_\") + \"_Rt\"\n",
    "                        else:\n",
    "                            pc_value = \"Project:\" + project_ID + \" Subject:\" + subdir.split(' ')[-1].replace(\"-\",\"_\") + \" Session:\" + subdir.replace(\"-\",\"_\") + \"_Rt\"       \n",
    "                        \n",
    "                        if [0x0010, 0x4000] in ds:\n",
    "                            ds[0x0010, 0x4000].value = pc_value\n",
    "                        else:\n",
    "                            ds.add_new([0x0010, 0x4000], 'LT', pc_value)\n",
    "                        #save dicom file\n",
    "                        ds.save_as(os.path.join(dir, subdir,subFolder,file))\n",
    "                print(\"Zipping: \",os.path.join(dir, subdir,subFolder))\n",
    "                zip_directory(os.path.join(dir, subdir,subFolder), os.path.join(dir, subdir,subFolder) + \".zip\")\n",
    "                print(\"Uploading:\" + os.path.join(dir, subdir,subFolder) + \".zip\")\n",
    "                prearchive_session = session.services.import_(os.path.join(dir, subdir,subFolder) + \".zip\", project=project_ID, destination='/prearchive')\n",
    "            if (\"CT\" in subFolder or \"PT\" in subFolder) and os.path.isdir(os.path.join(dir, subdir,subFolder)):\n",
    "                if \"CT\" in subFolder:\n",
    "                    ct = True\n",
    "                elif \"PT\" in subFolder:\n",
    "                    pt = True\n",
    "\n",
    "                for file in os.listdir(os.path.join(dir, subdir,subFolder)):\n",
    "                    if \".dcm\" in file and file[0] != \".\":\n",
    "                        ds = pydicom.read_file(os.path.join(dir, subdir,subFolder,file))\n",
    "                        if len(subdir.split(' ')) > 1:\n",
    "                            pc_value = \"Project:\" + project_ID + \" Subject:\" + subdir.split(' ')[-2].replace(\"-\",\"_\") + \" Session:\" + \"_\".join(subdir.split(' ')).replace(\"-\",\"_\")\n",
    "                        else:\n",
    "                            pc_value = \"Project:\" + project_ID + \" Subject:\" + subdir.split(' ')[-1].replace(\"-\",\"_\") + \" Session:\" + subdir.replace(\"-\",\"_\")\n",
    "                        if [0x0010, 0x4000] in ds:\n",
    "                            ds[0x0010, 0x4000].value = pc_value\n",
    "                        else:\n",
    "                            ds.add_new([0x0010, 0x4000], 'LT', pc_value)\n",
    "                        #save dicom file\n",
    "                        ds.save_as(os.path.join(dir, subdir,subFolder,file))\n",
    "                        shutil.copy(os.path.join(dir, subdir,subFolder,file), os.path.join(dir, subdir,os.path.join(dir,subdir,\"_\".join(subdir.split(' ')).replace(\"-\",\"_\")),file))\n",
    "                if pt and ct:\n",
    "                    print(\"Zipping: \",os.path.join(dir, subdir,os.path.join(dir,subdir,\"_\".join(subdir.split(' ')).replace(\"-\",\"_\"))))\n",
    "                    zip_directory(os.path.join(dir, subdir,os.path.join(dir,subdir,\"_\".join(subdir.split(' ')).replace(\"-\",\"_\"))), os.path.join(dir, subdir,os.path.join(dir,subdir,\"_\".join(subdir.split(' ')).replace(\"-\",\"_\"))) + \".zip\")\n",
    "                    print(\"Uploading:\" + os.path.join(dir, subdir,os.path.join(dir,subdir,\"_\".join(subdir.split(' ')).replace(\"-\",\"_\"))) + \".zip\")\n",
    "                    prearchive_session = session.services.import_(os.path.join(dir, subdir,os.path.join(dir,subdir,\"_\".join(subdir.split(' ')).replace(\"-\",\"_\"))) + \".zip\", project=project_ID, destination='/prearchive')"
   ]
  },
  {
   "cell_type": "code",
   "execution_count": null,
   "metadata": {},
   "outputs": [],
   "source": [
    "session.disconnect()"
   ]
  }
 ],
 "metadata": {
  "kernelspec": {
   "display_name": "Python 3.10.6 64-bit",
   "language": "python",
   "name": "python3"
  },
  "language_info": {
   "codemirror_mode": {
    "name": "ipython",
    "version": 3
   },
   "file_extension": ".py",
   "mimetype": "text/x-python",
   "name": "python",
   "nbconvert_exporter": "python",
   "pygments_lexer": "ipython3",
   "version": "3.10.6"
  },
  "orig_nbformat": 4,
  "vscode": {
   "interpreter": {
    "hash": "a2a23764cab275ce71c1af807da9f08c98f86093193576870195798f319f710c"
   }
  }
 },
 "nbformat": 4,
 "nbformat_minor": 2
}
