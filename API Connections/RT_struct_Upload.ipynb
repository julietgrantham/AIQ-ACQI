{
 "cells": [
  {
   "cell_type": "code",
   "execution_count": 1,
   "metadata": {},
   "outputs": [],
   "source": [
    "import xnat\n",
    "import pydicom\n",
    "from pydicom import dcmread\n",
    "from pydicom.data import get_testdata_file\n",
    "# import dicom\n",
    "import zipfile\n",
    "import os"
   ]
  },
  {
   "cell_type": "code",
   "execution_count": 2,
   "metadata": {},
   "outputs": [],
   "source": [
    "project_ID = \"BCR-PCA\"\n",
    "# dir = \"\\\\\\\\uniwa.uwa.edu.au\\\\userhome\\\\staff3\\\\00105493\\\\Downloads\\\\MEL00033\"\n",
    "dir = \"D:\\Prostate01\\PSMA_DATA_ANNON_angel_too_deidentified+rt struct\"\n",
    "user = \"JulietLi\"\n",
    "password = \"\"\n",
    "#Connect to XNAT session\n",
    "# session = xnat.connect('http://aiqprdeauxnat001.australiaeast.cloudapp.azure.com:8080/xnat-web-1.8.5', user='admin', password='...')\n",
    "session = xnat.connect('http://instance-146-118-67-25.nimbus.pawsey.org.au', user=user, password=password)\n"
   ]
  },
  {
   "cell_type": "code",
   "execution_count": 3,
   "metadata": {},
   "outputs": [],
   "source": [
    "#Function to Zip Directory of Individual Patients\n",
    "def zip_directory(folder_path, zip_path):\n",
    "    with zipfile.ZipFile(zip_path, mode='w') as zipf:\n",
    "        len_dir_path = len(folder_path)\n",
    "        for root, _, files in os.walk(folder_path):\n",
    "            for file in files:\n",
    "                file_path = os.path.join(root, file)\n",
    "                zipf.write(file_path, file_path[len_dir_path:])"
   ]
  },
  {
   "cell_type": "code",
   "execution_count": 4,
   "metadata": {},
   "outputs": [
    {
     "name": "stdout",
     "output_type": "stream",
     "text": [
      "Now Processing: D:\\FinalTrainingCohort_AIQ_Mel01_Corrected\\Final_Mel01\\MEL00056_06092016\n",
      "Now Processing: D:\\FinalTrainingCohort_AIQ_Mel01_Corrected\\Final_Mel01\\MEL00056_13062016\n",
      "Now Processing: D:\\FinalTrainingCohort_AIQ_Mel01_Corrected\\Final_Mel01\\MEL00154_05102015\n",
      "Now Processing: D:\\FinalTrainingCohort_AIQ_Mel01_Corrected\\Final_Mel01\\MEL00154_18062015\n",
      "Now Processing: D:\\FinalTrainingCohort_AIQ_Mel01_Corrected\\Final_Mel01\\MEL00181_03082018\n",
      "Now Processing: D:\\FinalTrainingCohort_AIQ_Mel01_Corrected\\Final_Mel01\\MEL00181_26112018\n",
      "Now Processing: D:\\FinalTrainingCohort_AIQ_Mel01_Corrected\\Final_Mel01\\MEL00240_13112014\n",
      "Now Processing: D:\\FinalTrainingCohort_AIQ_Mel01_Corrected\\Final_Mel01\\MEL00240_25022015\n",
      "Now Processing: D:\\FinalTrainingCohort_AIQ_Mel01_Corrected\\Final_Mel01\\MEL00243_06112014\n",
      "Now Processing: D:\\FinalTrainingCohort_AIQ_Mel01_Corrected\\Final_Mel01\\MEL00243_18082014\n",
      "Now Processing: D:\\FinalTrainingCohort_AIQ_Mel01_Corrected\\Final_Mel01\\MEL00269_09102014\n",
      "Now Processing: D:\\FinalTrainingCohort_AIQ_Mel01_Corrected\\Final_Mel01\\MEL00269_16062014\n",
      "Now Processing: D:\\FinalTrainingCohort_AIQ_Mel01_Corrected\\Final_Mel01\\MEL00306_21122015\n",
      "Now Processing: D:\\FinalTrainingCohort_AIQ_Mel01_Corrected\\Final_Mel01\\MEL00306_29032016\n",
      "Now Processing: D:\\FinalTrainingCohort_AIQ_Mel01_Corrected\\Final_Mel01\\MEL00312_11072016\n",
      "Now Processing: D:\\FinalTrainingCohort_AIQ_Mel01_Corrected\\Final_Mel01\\MEL00312_18102016\n",
      "Now Processing: D:\\FinalTrainingCohort_AIQ_Mel01_Corrected\\Final_Mel01\\MEL00320_01072013\n",
      "Now Processing: D:\\FinalTrainingCohort_AIQ_Mel01_Corrected\\Final_Mel01\\MEL00320_03102013\n",
      "Now Processing: D:\\FinalTrainingCohort_AIQ_Mel01_Corrected\\Final_Mel01\\MEL00326_01052018\n",
      "Now Processing: D:\\FinalTrainingCohort_AIQ_Mel01_Corrected\\Final_Mel01\\MEL00326_07082018\n",
      "Now Processing: D:\\FinalTrainingCohort_AIQ_Mel01_Corrected\\Final_Mel01\\MEL00349_06032015\n",
      "Now Processing: D:\\FinalTrainingCohort_AIQ_Mel01_Corrected\\Final_Mel01\\MEL00349_23062015\n",
      "Now Processing: D:\\FinalTrainingCohort_AIQ_Mel01_Corrected\\Final_Mel01\\MEL00358_12052015\n",
      "Now Processing: D:\\FinalTrainingCohort_AIQ_Mel01_Corrected\\Final_Mel01\\MEL00358_21072015\n",
      "Now Processing: D:\\FinalTrainingCohort_AIQ_Mel01_Corrected\\Final_Mel01\\MEL00423_01102018\n",
      "Now Processing: D:\\FinalTrainingCohort_AIQ_Mel01_Corrected\\Final_Mel01\\MEL00423_08012019\n",
      "Now Processing: D:\\FinalTrainingCohort_AIQ_Mel01_Corrected\\Final_Mel01\\MEL00430_22072016\n",
      "Now Processing: D:\\FinalTrainingCohort_AIQ_Mel01_Corrected\\Final_Mel01\\MEL00430_24102016\n",
      "Now Processing: D:\\FinalTrainingCohort_AIQ_Mel01_Corrected\\Final_Mel01\\MEL00448_05022016\n",
      "Now Processing: D:\\FinalTrainingCohort_AIQ_Mel01_Corrected\\Final_Mel01\\MEL00448_19112015\n",
      "Now Processing: D:\\FinalTrainingCohort_AIQ_Mel01_Corrected\\Final_Mel01\\MEL00469_21112016\n",
      "Now Processing: D:\\FinalTrainingCohort_AIQ_Mel01_Corrected\\Final_Mel01\\MEL00469_29082016\n",
      "Now Processing: D:\\FinalTrainingCohort_AIQ_Mel01_Corrected\\Final_Mel01\\MEL00483_12052017\n",
      "Now Processing: D:\\FinalTrainingCohort_AIQ_Mel01_Corrected\\Final_Mel01\\MEL00483_20022017\n",
      "Now Processing: D:\\FinalTrainingCohort_AIQ_Mel01_Corrected\\Final_Mel01\\MEL00493_29072016\n",
      "Now Processing: D:\\FinalTrainingCohort_AIQ_Mel01_Corrected\\Final_Mel01\\MEL00493_31102016\n",
      "Now Processing: D:\\FinalTrainingCohort_AIQ_Mel01_Corrected\\Final_Mel01\\MEL00503_12062017\n",
      "Now Processing: D:\\FinalTrainingCohort_AIQ_Mel01_Corrected\\Final_Mel01\\MEL00503_24082017\n",
      "Now Processing: D:\\FinalTrainingCohort_AIQ_Mel01_Corrected\\Final_Mel01\\MEL00512_02082016\n",
      "Now Processing: D:\\FinalTrainingCohort_AIQ_Mel01_Corrected\\Final_Mel01\\MEL00512_22042016\n",
      "Now Processing: D:\\FinalTrainingCohort_AIQ_Mel01_Corrected\\Final_Mel01\\MEL00514_10102016\n",
      "Now Processing: D:\\FinalTrainingCohort_AIQ_Mel01_Corrected\\Final_Mel01\\MEL00514_29122016\n",
      "Now Processing: D:\\FinalTrainingCohort_AIQ_Mel01_Corrected\\Final_Mel01\\MEL00518_15062016\n",
      "Now Processing: D:\\FinalTrainingCohort_AIQ_Mel01_Corrected\\Final_Mel01\\MEL00518_16092016\n",
      "Now Processing: D:\\FinalTrainingCohort_AIQ_Mel01_Corrected\\Final_Mel01\\MEL00545_21082015\n",
      "Now Processing: D:\\FinalTrainingCohort_AIQ_Mel01_Corrected\\Final_Mel01\\MEL00545_29052015\n",
      "Now Processing: D:\\FinalTrainingCohort_AIQ_Mel01_Corrected\\Final_Mel01\\MEL00549_18112015\n",
      "Now Processing: D:\\FinalTrainingCohort_AIQ_Mel01_Corrected\\Final_Mel01\\MEL00559_01052018\n",
      "Now Processing: D:\\FinalTrainingCohort_AIQ_Mel01_Corrected\\Final_Mel01\\MEL00559_07082018\n",
      "Now Processing: D:\\FinalTrainingCohort_AIQ_Mel01_Corrected\\Final_Mel01\\MEL00564_17052019\n",
      "Now Processing: D:\\FinalTrainingCohort_AIQ_Mel01_Corrected\\Final_Mel01\\MEL00564_26022019\n",
      "Now Processing: D:\\FinalTrainingCohort_AIQ_Mel01_Corrected\\Final_Mel01\\MEL00566_03042017\n",
      "Now Processing: D:\\FinalTrainingCohort_AIQ_Mel01_Corrected\\Final_Mel01\\MEL00566_11072017\n",
      "Now Processing: D:\\FinalTrainingCohort_AIQ_Mel01_Corrected\\Final_Mel01\\MEL00574_09112016\n",
      "Now Processing: D:\\FinalTrainingCohort_AIQ_Mel01_Corrected\\Final_Mel01\\MEL00574_24012017\n",
      "Now Processing: D:\\FinalTrainingCohort_AIQ_Mel01_Corrected\\Final_Mel01\\MEL00576_09022016\n",
      "Now Processing: D:\\FinalTrainingCohort_AIQ_Mel01_Corrected\\Final_Mel01\\MEL00576_26052016\n",
      "Now Processing: D:\\FinalTrainingCohort_AIQ_Mel01_Corrected\\Final_Mel01\\MEL00582_11062019\n",
      "Now Processing: D:\\FinalTrainingCohort_AIQ_Mel01_Corrected\\Final_Mel01\\MEL00582_20082019\n",
      "Now Processing: D:\\FinalTrainingCohort_AIQ_Mel01_Corrected\\Final_Mel01\\MEL00587_17012019\n",
      "Now Processing: D:\\FinalTrainingCohort_AIQ_Mel01_Corrected\\Final_Mel01\\MEL00587_29042019\n",
      "Now Processing: D:\\FinalTrainingCohort_AIQ_Mel01_Corrected\\Final_Mel01\\MEL00610_14082017\n",
      "Now Processing: D:\\FinalTrainingCohort_AIQ_Mel01_Corrected\\Final_Mel01\\MEL00610_27112017\n",
      "Now Processing: D:\\FinalTrainingCohort_AIQ_Mel01_Corrected\\Final_Mel01\\MEL00616_01042016\n",
      "Now Processing: D:\\FinalTrainingCohort_AIQ_Mel01_Corrected\\Final_Mel01\\MEL00616_16122015\n",
      "Now Processing: D:\\FinalTrainingCohort_AIQ_Mel01_Corrected\\Final_Mel01\\MEL00627_22012019\n",
      "Now Processing: D:\\FinalTrainingCohort_AIQ_Mel01_Corrected\\Final_Mel01\\MEL00627_28032019\n",
      "Now Processing: D:\\FinalTrainingCohort_AIQ_Mel01_Corrected\\Final_Mel01\\MEL00642_02052016\n",
      "Now Processing: D:\\FinalTrainingCohort_AIQ_Mel01_Corrected\\Final_Mel01\\MEL00642_25082016\n"
     ]
    }
   ],
   "source": [
    "#Remove Zips\n",
    "for subdir in os.listdir(dir):\n",
    "    if (\".csv\" not in subdir) and (\".txt\" not in subdir):\n",
    "        print(\"Now Processing: \" + os.path.join(dir, subdir))\n",
    "        for subFolder in os.listdir(os.path.join(dir, subdir)):\n",
    "            # print(subFolder)\n",
    "            if \".zip\" in subFolder:\n",
    "                print(os.path.join(dir, subdir,subFolder))\n",
    "                os.remove(os.path.join(dir, subdir,subFolder))\n",
    "            for each_sessions in os.listdir(os.path.join(dir, subdir, subFolder)):\n",
    "                if \".zip\" in each_sessions:\n",
    "                    print(os.path.join(dir, subdir,subFolder,each_sessions))\n",
    "                    os.remove(os.path.join(dir, subdir,subFolder,each_sessions))"
   ]
  },
  {
   "cell_type": "code",
   "execution_count": null,
   "metadata": {},
   "outputs": [
    {
     "name": "stdout",
     "output_type": "stream",
     "text": [
      "Now Processing: D:\\FinalTrainingCohort_AIQ_Mel01_Corrected\\Final_Mel01\\MEL00056_06092016\n",
      "Now Processing: D:\\FinalTrainingCohort_AIQ_Mel01_Corrected\\Final_Mel01\\MEL00056_13062016\n",
      "Now Processing: D:\\FinalTrainingCohort_AIQ_Mel01_Corrected\\Final_Mel01\\MEL00154_05102015\n",
      "Now Processing: D:\\FinalTrainingCohort_AIQ_Mel01_Corrected\\Final_Mel01\\MEL00154_18062015\n",
      "Now Processing: D:\\FinalTrainingCohort_AIQ_Mel01_Corrected\\Final_Mel01\\MEL00181_03082018\n",
      "Now Processing: D:\\FinalTrainingCohort_AIQ_Mel01_Corrected\\Final_Mel01\\MEL00181_26112018\n",
      "Now Processing: D:\\FinalTrainingCohort_AIQ_Mel01_Corrected\\Final_Mel01\\MEL00240_13112014\n",
      "Now Processing: D:\\FinalTrainingCohort_AIQ_Mel01_Corrected\\Final_Mel01\\MEL00240_25022015\n",
      "Now Processing: D:\\FinalTrainingCohort_AIQ_Mel01_Corrected\\Final_Mel01\\MEL00243_06112014\n",
      "Now Processing: D:\\FinalTrainingCohort_AIQ_Mel01_Corrected\\Final_Mel01\\MEL00243_18082014\n",
      "Now Processing: D:\\FinalTrainingCohort_AIQ_Mel01_Corrected\\Final_Mel01\\MEL00269_09102014\n",
      "Now Processing: D:\\FinalTrainingCohort_AIQ_Mel01_Corrected\\Final_Mel01\\MEL00269_16062014\n",
      "Now Processing: D:\\FinalTrainingCohort_AIQ_Mel01_Corrected\\Final_Mel01\\MEL00306_21122015\n",
      "Now Processing: D:\\FinalTrainingCohort_AIQ_Mel01_Corrected\\Final_Mel01\\MEL00306_29032016\n",
      "Now Processing: D:\\FinalTrainingCohort_AIQ_Mel01_Corrected\\Final_Mel01\\MEL00312_11072016\n",
      "Now Processing: D:\\FinalTrainingCohort_AIQ_Mel01_Corrected\\Final_Mel01\\MEL00312_18102016\n",
      "Now Processing: D:\\FinalTrainingCohort_AIQ_Mel01_Corrected\\Final_Mel01\\MEL00320_01072013\n",
      "Now Processing: D:\\FinalTrainingCohort_AIQ_Mel01_Corrected\\Final_Mel01\\MEL00320_03102013\n",
      "Now Processing: D:\\FinalTrainingCohort_AIQ_Mel01_Corrected\\Final_Mel01\\MEL00326_01052018\n",
      "Now Processing: D:\\FinalTrainingCohort_AIQ_Mel01_Corrected\\Final_Mel01\\MEL00326_07082018\n",
      "Now Processing: D:\\FinalTrainingCohort_AIQ_Mel01_Corrected\\Final_Mel01\\MEL00349_06032015\n",
      "Now Processing: D:\\FinalTrainingCohort_AIQ_Mel01_Corrected\\Final_Mel01\\MEL00349_23062015\n",
      "Now Processing: D:\\FinalTrainingCohort_AIQ_Mel01_Corrected\\Final_Mel01\\MEL00358_12052015\n",
      "Now Processing: D:\\FinalTrainingCohort_AIQ_Mel01_Corrected\\Final_Mel01\\MEL00358_21072015\n",
      "Now Processing: D:\\FinalTrainingCohort_AIQ_Mel01_Corrected\\Final_Mel01\\MEL00423_01102018\n",
      "Now Processing: D:\\FinalTrainingCohort_AIQ_Mel01_Corrected\\Final_Mel01\\MEL00423_08012019\n",
      "Now Processing: D:\\FinalTrainingCohort_AIQ_Mel01_Corrected\\Final_Mel01\\MEL00430_22072016\n",
      "Now Processing: D:\\FinalTrainingCohort_AIQ_Mel01_Corrected\\Final_Mel01\\MEL00430_24102016\n",
      "Now Processing: D:\\FinalTrainingCohort_AIQ_Mel01_Corrected\\Final_Mel01\\MEL00448_05022016\n",
      "Now Processing: D:\\FinalTrainingCohort_AIQ_Mel01_Corrected\\Final_Mel01\\MEL00448_19112015\n",
      "Now Processing: D:\\FinalTrainingCohort_AIQ_Mel01_Corrected\\Final_Mel01\\MEL00469_21112016\n",
      "Now Processing: D:\\FinalTrainingCohort_AIQ_Mel01_Corrected\\Final_Mel01\\MEL00469_29082016\n",
      "Now Processing: D:\\FinalTrainingCohort_AIQ_Mel01_Corrected\\Final_Mel01\\MEL00483_12052017\n",
      "Now Processing: D:\\FinalTrainingCohort_AIQ_Mel01_Corrected\\Final_Mel01\\MEL00483_20022017\n",
      "Now Processing: D:\\FinalTrainingCohort_AIQ_Mel01_Corrected\\Final_Mel01\\MEL00493_29072016\n",
      "Now Processing: D:\\FinalTrainingCohort_AIQ_Mel01_Corrected\\Final_Mel01\\MEL00493_31102016\n",
      "Now Processing: D:\\FinalTrainingCohort_AIQ_Mel01_Corrected\\Final_Mel01\\MEL00503_12062017\n",
      "Now Processing: D:\\FinalTrainingCohort_AIQ_Mel01_Corrected\\Final_Mel01\\MEL00503_24082017\n",
      "Now Processing: D:\\FinalTrainingCohort_AIQ_Mel01_Corrected\\Final_Mel01\\MEL00512_02082016\n",
      "Now Processing: D:\\FinalTrainingCohort_AIQ_Mel01_Corrected\\Final_Mel01\\MEL00512_22042016\n",
      "Now Processing: D:\\FinalTrainingCohort_AIQ_Mel01_Corrected\\Final_Mel01\\MEL00514_10102016\n",
      "Now Processing: D:\\FinalTrainingCohort_AIQ_Mel01_Corrected\\Final_Mel01\\MEL00514_29122016\n",
      "Now Processing: D:\\FinalTrainingCohort_AIQ_Mel01_Corrected\\Final_Mel01\\MEL00518_15062016\n",
      "Now Processing: D:\\FinalTrainingCohort_AIQ_Mel01_Corrected\\Final_Mel01\\MEL00518_16092016\n",
      "Now Processing: D:\\FinalTrainingCohort_AIQ_Mel01_Corrected\\Final_Mel01\\MEL00545_21082015\n",
      "Now Processing: D:\\FinalTrainingCohort_AIQ_Mel01_Corrected\\Final_Mel01\\MEL00545_29052015\n",
      "Now Processing: D:\\FinalTrainingCohort_AIQ_Mel01_Corrected\\Final_Mel01\\MEL00549_18112015\n",
      "Now Processing: D:\\FinalTrainingCohort_AIQ_Mel01_Corrected\\Final_Mel01\\MEL00559_01052018\n",
      "Now Processing: D:\\FinalTrainingCohort_AIQ_Mel01_Corrected\\Final_Mel01\\MEL00559_07082018\n",
      "Now Processing: D:\\FinalTrainingCohort_AIQ_Mel01_Corrected\\Final_Mel01\\MEL00564_17052019\n",
      "Now Processing: D:\\FinalTrainingCohort_AIQ_Mel01_Corrected\\Final_Mel01\\MEL00564_26022019\n",
      "Now Processing: D:\\FinalTrainingCohort_AIQ_Mel01_Corrected\\Final_Mel01\\MEL00566_03042017\n",
      "Now Processing: D:\\FinalTrainingCohort_AIQ_Mel01_Corrected\\Final_Mel01\\MEL00566_11072017\n",
      "Now Processing: D:\\FinalTrainingCohort_AIQ_Mel01_Corrected\\Final_Mel01\\MEL00574_09112016\n",
      "Now Processing: D:\\FinalTrainingCohort_AIQ_Mel01_Corrected\\Final_Mel01\\MEL00574_24012017\n",
      "Now Processing: D:\\FinalTrainingCohort_AIQ_Mel01_Corrected\\Final_Mel01\\MEL00576_09022016\n",
      "Now Processing: D:\\FinalTrainingCohort_AIQ_Mel01_Corrected\\Final_Mel01\\MEL00576_26052016\n",
      "Now Processing: D:\\FinalTrainingCohort_AIQ_Mel01_Corrected\\Final_Mel01\\MEL00582_11062019\n",
      "Now Processing: D:\\FinalTrainingCohort_AIQ_Mel01_Corrected\\Final_Mel01\\MEL00582_20082019\n",
      "Now Processing: D:\\FinalTrainingCohort_AIQ_Mel01_Corrected\\Final_Mel01\\MEL00587_17012019\n",
      "Now Processing: D:\\FinalTrainingCohort_AIQ_Mel01_Corrected\\Final_Mel01\\MEL00587_29042019\n",
      "Now Processing: D:\\FinalTrainingCohort_AIQ_Mel01_Corrected\\Final_Mel01\\MEL00610_14082017\n",
      "Now Processing: D:\\FinalTrainingCohort_AIQ_Mel01_Corrected\\Final_Mel01\\MEL00610_27112017\n",
      "Now Processing: D:\\FinalTrainingCohort_AIQ_Mel01_Corrected\\Final_Mel01\\MEL00616_01042016\n",
      "Now Processing: D:\\FinalTrainingCohort_AIQ_Mel01_Corrected\\Final_Mel01\\MEL00616_16122015\n",
      "Now Processing: D:\\FinalTrainingCohort_AIQ_Mel01_Corrected\\Final_Mel01\\MEL00627_22012019\n",
      "Now Processing: D:\\FinalTrainingCohort_AIQ_Mel01_Corrected\\Final_Mel01\\MEL00627_28032019\n",
      "Now Processing: D:\\FinalTrainingCohort_AIQ_Mel01_Corrected\\Final_Mel01\\MEL00642_02052016\n",
      "Now Processing: D:\\FinalTrainingCohort_AIQ_Mel01_Corrected\\Final_Mel01\\MEL00642_25082016\n"
     ]
    }
   ],
   "source": [
    "#Remove Zips\n",
    "for subdir in os.listdir(dir):\n",
    "    if (\".csv\" not in subdir) and (\".txt\" not in subdir):\n",
    "        print(\"Now Processing: \" + os.path.join(dir, subdir))\n",
    "        for subFolder in os.listdir(os.path.join(dir, subdir)):\n",
    "            # print(subFolder)\n",
    "            if \".zip\" in subFolder:\n",
    "                print(os.path.join(dir, subdir,subFolder))\n",
    "                os.remove(os.path.join(dir, subdir,subFolder))\n",
    "            for each_sessions in os.listdir(os.path.join(dir, subdir, subFolder)):\n",
    "                if \".zip\" in each_sessions:\n",
    "                    print(os.path.join(dir, subdir,subFolder,each_sessions))\n",
    "                    os.remove(os.path.join(dir, subdir,subFolder,each_sessions))"
   ]
  },
  {
   "cell_type": "code",
   "execution_count": 8,
   "metadata": {},
   "outputs": [
    {
     "name": "stdout",
     "output_type": "stream",
     "text": [
      "Now Processing: D:\\Prostate01\\PSMA_DATA_ANNON_angel_too_deidentified+rt struct\\PS001LB\n"
     ]
    },
    {
     "name": "stderr",
     "output_type": "stream",
     "text": [
      "[WARNING] Found unexpect content type, but assuming zip based on the extension\n"
     ]
    },
    {
     "name": "stdout",
     "output_type": "stream",
     "text": [
      "Zipping:  D:\\Prostate01\\PSMA_DATA_ANNON_angel_too_deidentified+rt struct\\PS001LB\\1.3.51.0_.7116671_RTst_2015-06-04_101844_PET.NC.Research_Contours.renamed_n1__00000\n",
      "Uploading:D:\\Prostate01\\PSMA_DATA_ANNON_angel_too_deidentified+rt struct\\PS001LB\\1.3.51.0_.7116671_RTst_2015-06-04_101844_PET.NC.Research_Contours.renamed_n1__00000.zip\n"
     ]
    },
    {
     "ename": "NotADirectoryError",
     "evalue": "[WinError 267] The directory name is invalid: 'D:\\\\Prostate01\\\\PSMA_DATA_ANNON_angel_too_deidentified+rt struct\\\\PS001LB\\\\1.3.51.0_.7116671_RTst_2015-06-04_101844_PET.NC.Research_Contours.renamed_n1__00000.zip'",
     "output_type": "error",
     "traceback": [
      "\u001b[1;31m---------------------------------------------------------------------------\u001b[0m",
      "\u001b[1;31mNotADirectoryError\u001b[0m                        Traceback (most recent call last)",
      "\u001b[1;32muserhome\\staff3\\00105493\\My Documents\\AIQ\\australia-aiq-data-development\\API Connections\\RT_struct_Upload.ipynb Cell 5\u001b[0m in \u001b[0;36m<cell line: 1>\u001b[1;34m()\u001b[0m\n\u001b[0;32m      <a href='vscode-notebook-cell://uniwa.uwa.edu.au/userhome/staff3/00105493/My%20Documents/AIQ/australia-aiq-data-development/API%20Connections/RT_struct_Upload.ipynb#W4sZmlsZQ%3D%3D?line=3'>4</a>\u001b[0m \u001b[39mfor\u001b[39;00m subFolder \u001b[39min\u001b[39;00m os\u001b[39m.\u001b[39mlistdir(os\u001b[39m.\u001b[39mpath\u001b[39m.\u001b[39mjoin(\u001b[39mdir\u001b[39m, subdir)):\n\u001b[0;32m      <a href='vscode-notebook-cell://uniwa.uwa.edu.au/userhome/staff3/00105493/My%20Documents/AIQ/australia-aiq-data-development/API%20Connections/RT_struct_Upload.ipynb#W4sZmlsZQ%3D%3D?line=4'>5</a>\u001b[0m     \u001b[39mif\u001b[39;00m \u001b[39m\"\u001b[39m\u001b[39mRTst_\u001b[39m\u001b[39m\"\u001b[39m \u001b[39min\u001b[39;00m subFolder:\n\u001b[1;32m----> <a href='vscode-notebook-cell://uniwa.uwa.edu.au/userhome/staff3/00105493/My%20Documents/AIQ/australia-aiq-data-development/API%20Connections/RT_struct_Upload.ipynb#W4sZmlsZQ%3D%3D?line=5'>6</a>\u001b[0m         \u001b[39mfor\u001b[39;00m file \u001b[39min\u001b[39;00m os\u001b[39m.\u001b[39;49mlistdir(os\u001b[39m.\u001b[39;49mpath\u001b[39m.\u001b[39;49mjoin(\u001b[39mdir\u001b[39;49m, subdir,subFolder)):\n\u001b[0;32m      <a href='vscode-notebook-cell://uniwa.uwa.edu.au/userhome/staff3/00105493/My%20Documents/AIQ/australia-aiq-data-development/API%20Connections/RT_struct_Upload.ipynb#W4sZmlsZQ%3D%3D?line=6'>7</a>\u001b[0m             ds \u001b[39m=\u001b[39m pydicom\u001b[39m.\u001b[39mread_file(os\u001b[39m.\u001b[39mpath\u001b[39m.\u001b[39mjoin(\u001b[39mdir\u001b[39m, subdir,subFolder,file))\n\u001b[0;32m      <a href='vscode-notebook-cell://uniwa.uwa.edu.au/userhome/staff3/00105493/My%20Documents/AIQ/australia-aiq-data-development/API%20Connections/RT_struct_Upload.ipynb#W4sZmlsZQ%3D%3D?line=7'>8</a>\u001b[0m             \u001b[39mif\u001b[39;00m \u001b[39mlen\u001b[39m(subdir\u001b[39m.\u001b[39msplit(\u001b[39m'\u001b[39m\u001b[39m \u001b[39m\u001b[39m'\u001b[39m)) \u001b[39m>\u001b[39m \u001b[39m1\u001b[39m:\n",
      "\u001b[1;31mNotADirectoryError\u001b[0m: [WinError 267] The directory name is invalid: 'D:\\\\Prostate01\\\\PSMA_DATA_ANNON_angel_too_deidentified+rt struct\\\\PS001LB\\\\1.3.51.0_.7116671_RTst_2015-06-04_101844_PET.NC.Research_Contours.renamed_n1__00000.zip'"
     ]
    }
   ],
   "source": [
    "for subdir in os.listdir(dir):\n",
    "    if (\".csv\" not in subdir) and (\".txt\" not in subdir):\n",
    "        print(\"Now Processing: \" + os.path.join(dir, subdir))\n",
    "        for subFolder in os.listdir(os.path.join(dir, subdir)):\n",
    "            if \"RTst_\" in subFolder:\n",
    "                for file in os.listdir(os.path.join(dir, subdir,subFolder)):\n",
    "                    ds = pydicom.read_file(os.path.join(dir, subdir,subFolder,file))\n",
    "                    if len(subdir.split(' ')) > 1:\n",
    "                        pc_value = \"Project:\" + project_ID + \" Subject:\" + subdir.split(' ')[-2] + \" Session:\" + \"_\".join(subdir.split(' ')) + \"_Rt\"\n",
    "                    else:\n",
    "                        pc_value = \"Project:\" + project_ID + \" Subject:\" + subdir.split(' ')[-1] + \" Session:\" + subdir + \"_Rt\"                    \n",
    "                    if [0x0010, 0x4000] in ds:\n",
    "                        ds[0x0010, 0x4000].value = pc_value\n",
    "                    else:\n",
    "                        ds.add_new([0x0010, 0x4000], 'LT', pc_value)\n",
    "                    #save dicom file\n",
    "                    ds.save_as(os.path.join(dir, subdir,subFolder,file))\n",
    "                print(\"Zipping: \",os.path.join(dir, subdir,subFolder))\n",
    "                zip_directory(os.path.join(dir, subdir,subFolder), os.path.join(dir, subdir,subFolder) + \".zip\")\n",
    "                print(\"Uploading:\" + os.path.join(dir, subdir,subFolder) + \".zip\")\n",
    "                prearchive_session = session.services.import_(os.path.join(dir, subdir,subFolder) + \".zip\", project=project_ID, destination='/prearchive')"
   ]
  },
  {
   "cell_type": "code",
   "execution_count": 6,
   "metadata": {},
   "outputs": [],
   "source": [
    "session.disconnect()"
   ]
  }
 ],
 "metadata": {
  "kernelspec": {
   "display_name": "Python 3.10.6 64-bit",
   "language": "python",
   "name": "python3"
  },
  "language_info": {
   "codemirror_mode": {
    "name": "ipython",
    "version": 3
   },
   "file_extension": ".py",
   "mimetype": "text/x-python",
   "name": "python",
   "nbconvert_exporter": "python",
   "pygments_lexer": "ipython3",
   "version": "3.10.6"
  },
  "orig_nbformat": 4,
  "vscode": {
   "interpreter": {
    "hash": "a2a23764cab275ce71c1af807da9f08c98f86093193576870195798f319f710c"
   }
  }
 },
 "nbformat": 4,
 "nbformat_minor": 2
}
