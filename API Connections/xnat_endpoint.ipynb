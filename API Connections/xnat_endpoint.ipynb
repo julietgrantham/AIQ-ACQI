{
 "cells": [
  {
   "cell_type": "markdown",
   "metadata": {},
   "source": [
    "## DICOM Bulk Upload to XNAT\n",
    "This script is for bulk uploading DICOM files into XNAT project. <br> This script also contains DICOM header editing for XNAT DICOM routing."
   ]
  },
  {
   "cell_type": "code",
   "execution_count": 1,
   "metadata": {},
   "outputs": [],
   "source": [
    "import xnat\n",
    "import pydicom\n",
    "from pydicom import dcmread\n",
    "from pydicom.data import get_testdata_file\n",
    "# import dicom\n",
    "import zipfile\n",
    "import os"
   ]
  },
  {
   "cell_type": "code",
   "execution_count": 3,
   "metadata": {},
   "outputs": [],
   "source": [
    "project_ID = \"Melanoma01\"\n",
    "# dir = \"\\\\\\\\uniwa.uwa.edu.au\\\\userhome\\\\staff3\\\\00105493\\\\Downloads\\\\MEL00033\"\n",
    "dir = \"C:\\\\Users\\\\00105493\\\\1464_1515\"\n",
    "user = \"JulietLi\"\n",
    "password = \"\"\n",
    "#Connect to XNAT session\n",
    "# session = xnat.connect('http://aiqprdeauxnat001.australiaeast.cloudapp.azure.com:8080/xnat-web-1.8.5', user='admin', password='...')\n",
    "session = xnat.connect('http://instance-146-118-67-25.nimbus.pawsey.org.au', user=user, password=password)\n"
   ]
  },
  {
   "cell_type": "code",
   "execution_count": 3,
   "metadata": {},
   "outputs": [],
   "source": [
    "#Function to Zip Directory of Individual Patients\n",
    "def zip_directory(folder_path, zip_path):\n",
    "    with zipfile.ZipFile(zip_path, mode='w') as zipf:\n",
    "        len_dir_path = len(folder_path)\n",
    "        for root, _, files in os.walk(folder_path):\n",
    "            for file in files:\n",
    "                file_path = os.path.join(root, file)\n",
    "                zipf.write(file_path, file_path[len_dir_path:])"
   ]
  },
  {
   "cell_type": "code",
   "execution_count": 49,
   "metadata": {},
   "outputs": [],
   "source": [
    "for root, subdirectories, files in os.walk(dir):\n",
    "    # for subdirectory in subdirectories:\n",
    "    #     print(os.path.join(root, subdirectory))\n",
    "    for file in files:\n",
    "        file_path = os.path.join(root, file)\n",
    "        ds = pydicom.read_file(file_path)\n",
    "        #Remove Birthday\n",
    "        if [0X010, 0X030] in ds:\n",
    "            del ds[0X010, 0X030]\n",
    "        #Add patient comments for DICOM routing\n",
    "        # pc_value = \"Project:\" + project_ID + \" Subject:\" + file_path.split('\\\\')[-3] + \" Session:\" + file_path.split('\\\\')[-2] + \"_\" + str(ds[0X020, 0X011].value)\n",
    "        pc_value = \"Project:\" + project_ID + \" Subject:\" + file_path.split('\\\\')[-3] + \" Session:\" + file_path.split('\\\\')[-2]\n",
    "        if [0x0010, 0x4000] in ds:\n",
    "            ds[0x0010, 0x4000].value = pc_value\n",
    "        else:\n",
    "            ds.add_new([0x0010, 0x4000], 'LT', pc_value)\n",
    "        #save dicom file\n",
    "        ds.save_as(file_path)\n",
    "        # break\n"
   ]
  },
  {
   "cell_type": "code",
   "execution_count": 50,
   "metadata": {},
   "outputs": [
    {
     "name": "stdout",
     "output_type": "stream",
     "text": [
      "Zipping:  C:\\Users\\00105493\\1464_1515\\MEL01464\n"
     ]
    },
    {
     "name": "stderr",
     "output_type": "stream",
     "text": [
      "[WARNING] Found unexpect content type, but assuming zip based on the extension\n"
     ]
    },
    {
     "name": "stdout",
     "output_type": "stream",
     "text": [
      "Uploading:C:\\Users\\00105493\\1464_1515\\MEL01464.zip\n",
      "Zipping:  C:\\Users\\00105493\\1464_1515\\MEL01482\n"
     ]
    },
    {
     "name": "stderr",
     "output_type": "stream",
     "text": [
      "[WARNING] Found unexpect content type, but assuming zip based on the extension\n"
     ]
    },
    {
     "name": "stdout",
     "output_type": "stream",
     "text": [
      "Uploading:C:\\Users\\00105493\\1464_1515\\MEL01482.zip\n",
      "Zipping:  C:\\Users\\00105493\\1464_1515\\MEL01484\n"
     ]
    },
    {
     "name": "stderr",
     "output_type": "stream",
     "text": [
      "[WARNING] Found unexpect content type, but assuming zip based on the extension\n"
     ]
    },
    {
     "name": "stdout",
     "output_type": "stream",
     "text": [
      "Uploading:C:\\Users\\00105493\\1464_1515\\MEL01484.zip\n",
      "Zipping:  C:\\Users\\00105493\\1464_1515\\MEL01488\n"
     ]
    },
    {
     "name": "stderr",
     "output_type": "stream",
     "text": [
      "[WARNING] Found unexpect content type, but assuming zip based on the extension\n"
     ]
    },
    {
     "name": "stdout",
     "output_type": "stream",
     "text": [
      "Uploading:C:\\Users\\00105493\\1464_1515\\MEL01488.zip\n",
      "Zipping:  C:\\Users\\00105493\\1464_1515\\MEL01497\n"
     ]
    },
    {
     "name": "stderr",
     "output_type": "stream",
     "text": [
      "[WARNING] Found unexpect content type, but assuming zip based on the extension\n"
     ]
    },
    {
     "name": "stdout",
     "output_type": "stream",
     "text": [
      "Uploading:C:\\Users\\00105493\\1464_1515\\MEL01497.zip\n",
      "Zipping:  C:\\Users\\00105493\\1464_1515\\MEL01499\n"
     ]
    },
    {
     "name": "stderr",
     "output_type": "stream",
     "text": [
      "[WARNING] Found unexpect content type, but assuming zip based on the extension\n"
     ]
    },
    {
     "name": "stdout",
     "output_type": "stream",
     "text": [
      "Uploading:C:\\Users\\00105493\\1464_1515\\MEL01499.zip\n",
      "Zipping:  C:\\Users\\00105493\\1464_1515\\MEL01503\n"
     ]
    },
    {
     "name": "stderr",
     "output_type": "stream",
     "text": [
      "[WARNING] Found unexpect content type, but assuming zip based on the extension\n"
     ]
    },
    {
     "name": "stdout",
     "output_type": "stream",
     "text": [
      "Uploading:C:\\Users\\00105493\\1464_1515\\MEL01503.zip\n",
      "Zipping:  C:\\Users\\00105493\\1464_1515\\MEL01505\n"
     ]
    },
    {
     "name": "stderr",
     "output_type": "stream",
     "text": [
      "[WARNING] Found unexpect content type, but assuming zip based on the extension\n"
     ]
    },
    {
     "name": "stdout",
     "output_type": "stream",
     "text": [
      "Uploading:C:\\Users\\00105493\\1464_1515\\MEL01505.zip\n",
      "Zipping:  C:\\Users\\00105493\\1464_1515\\MEL01514\n"
     ]
    },
    {
     "name": "stderr",
     "output_type": "stream",
     "text": [
      "[WARNING] Found unexpect content type, but assuming zip based on the extension\n"
     ]
    },
    {
     "name": "stdout",
     "output_type": "stream",
     "text": [
      "Uploading:C:\\Users\\00105493\\1464_1515\\MEL01514.zip\n",
      "Zipping:  C:\\Users\\00105493\\1464_1515\\MEL01515\n"
     ]
    },
    {
     "name": "stderr",
     "output_type": "stream",
     "text": [
      "[WARNING] Found unexpect content type, but assuming zip based on the extension\n"
     ]
    },
    {
     "name": "stdout",
     "output_type": "stream",
     "text": [
      "Uploading:C:\\Users\\00105493\\1464_1515\\MEL01515.zip\n"
     ]
    },
    {
     "name": "stderr",
     "output_type": "stream",
     "text": [
      "Exception in thread XNATpyKeepAliveThread:\n",
      "Traceback (most recent call last):\n",
      "  File \"c:\\Users\\00105493\\AppData\\Local\\Programs\\Python\\Python310\\lib\\site-packages\\urllib3\\connection.py\", line 174, in _new_conn\n",
      "    conn = connection.create_connection(\n",
      "  File \"c:\\Users\\00105493\\AppData\\Local\\Programs\\Python\\Python310\\lib\\site-packages\\urllib3\\util\\connection.py\", line 72, in create_connection\n",
      "    for res in socket.getaddrinfo(host, port, family, socket.SOCK_STREAM):\n",
      "  File \"c:\\Users\\00105493\\AppData\\Local\\Programs\\Python\\Python310\\lib\\socket.py\", line 955, in getaddrinfo\n",
      "    for res in _socket.getaddrinfo(host, port, family, type, proto, flags):\n",
      "socket.gaierror: [Errno 11001] getaddrinfo failed\n",
      "\n",
      "During handling of the above exception, another exception occurred:\n",
      "\n",
      "Traceback (most recent call last):\n",
      "  File \"c:\\Users\\00105493\\AppData\\Local\\Programs\\Python\\Python310\\lib\\site-packages\\urllib3\\connectionpool.py\", line 703, in urlopen\n",
      "    httplib_response = self._make_request(\n",
      "  File \"c:\\Users\\00105493\\AppData\\Local\\Programs\\Python\\Python310\\lib\\site-packages\\urllib3\\connectionpool.py\", line 398, in _make_request\n",
      "    conn.request(method, url, **httplib_request_kw)\n",
      "  File \"c:\\Users\\00105493\\AppData\\Local\\Programs\\Python\\Python310\\lib\\site-packages\\urllib3\\connection.py\", line 239, in request\n",
      "    super(HTTPConnection, self).request(method, url, body=body, headers=headers)\n",
      "  File \"c:\\Users\\00105493\\AppData\\Local\\Programs\\Python\\Python310\\lib\\http\\client.py\", line 1282, in request\n",
      "    self._send_request(method, url, body, headers, encode_chunked)\n",
      "  File \"c:\\Users\\00105493\\AppData\\Local\\Programs\\Python\\Python310\\lib\\http\\client.py\", line 1328, in _send_request\n",
      "    self.endheaders(body, encode_chunked=encode_chunked)\n",
      "  File \"c:\\Users\\00105493\\AppData\\Local\\Programs\\Python\\Python310\\lib\\http\\client.py\", line 1277, in endheaders\n",
      "    self._send_output(message_body, encode_chunked=encode_chunked)\n",
      "  File \"c:\\Users\\00105493\\AppData\\Local\\Programs\\Python\\Python310\\lib\\http\\client.py\", line 1037, in _send_output\n",
      "    self.send(msg)\n",
      "  File \"c:\\Users\\00105493\\AppData\\Local\\Programs\\Python\\Python310\\lib\\http\\client.py\", line 975, in send\n",
      "    self.connect()\n",
      "  File \"c:\\Users\\00105493\\AppData\\Local\\Programs\\Python\\Python310\\lib\\site-packages\\urllib3\\connection.py\", line 205, in connect\n",
      "    conn = self._new_conn()\n",
      "  File \"c:\\Users\\00105493\\AppData\\Local\\Programs\\Python\\Python310\\lib\\site-packages\\urllib3\\connection.py\", line 186, in _new_conn\n",
      "    raise NewConnectionError(\n",
      "urllib3.exceptions.NewConnectionError: <urllib3.connection.HTTPConnection object at 0x000001CC7B1CC0A0>: Failed to establish a new connection: [Errno 11001] getaddrinfo failed\n",
      "\n",
      "During handling of the above exception, another exception occurred:\n",
      "\n",
      "Traceback (most recent call last):\n",
      "  File \"c:\\Users\\00105493\\AppData\\Local\\Programs\\Python\\Python310\\lib\\site-packages\\requests\\adapters.py\", line 489, in send\n",
      "    resp = conn.urlopen(\n",
      "  File \"c:\\Users\\00105493\\AppData\\Local\\Programs\\Python\\Python310\\lib\\site-packages\\urllib3\\connectionpool.py\", line 787, in urlopen\n",
      "    retries = retries.increment(\n",
      "  File \"c:\\Users\\00105493\\AppData\\Local\\Programs\\Python\\Python310\\lib\\site-packages\\urllib3\\util\\retry.py\", line 592, in increment\n",
      "    raise MaxRetryError(_pool, url, error or ResponseError(cause))\n",
      "urllib3.exceptions.MaxRetryError: HTTPConnectionPool(host='instance-146-118-67-25.nimbus.pawsey.org.au', port=80): Max retries exceeded with url: /data/JSESSION (Caused by NewConnectionError('<urllib3.connection.HTTPConnection object at 0x000001CC7B1CC0A0>: Failed to establish a new connection: [Errno 11001] getaddrinfo failed'))\n",
      "\n",
      "During handling of the above exception, another exception occurred:\n",
      "\n",
      "Traceback (most recent call last):\n",
      "  File \"c:\\Users\\00105493\\AppData\\Local\\Programs\\Python\\Python310\\lib\\threading.py\", line 1016, in _bootstrap_inner\n",
      "    self.run()\n",
      "  File \"c:\\Users\\00105493\\AppData\\Local\\Programs\\Python\\Python310\\lib\\threading.py\", line 953, in run\n",
      "    self._target(*self._args, **self._kwargs)\n",
      "  File \"c:\\Users\\00105493\\AppData\\Local\\Programs\\Python\\Python310\\lib\\site-packages\\xnat\\session.py\", line 250, in _keepalive_thread_run\n",
      "    self.heartbeat()\n",
      "  File \"c:\\Users\\00105493\\AppData\\Local\\Programs\\Python\\Python310\\lib\\site-packages\\xnat\\session.py\", line 241, in heartbeat\n",
      "    self.get('/data/JSESSION', timeout=10)\n",
      "  File \"c:\\Users\\00105493\\AppData\\Local\\Programs\\Python\\Python310\\lib\\site-packages\\xnat\\session.py\", line 361, in get\n",
      "    response = self.interface.get(uri, timeout=timeout, headers=headers)\n",
      "  File \"c:\\Users\\00105493\\AppData\\Local\\Programs\\Python\\Python310\\lib\\site-packages\\requests\\sessions.py\", line 600, in get\n",
      "    return self.request(\"GET\", url, **kwargs)\n",
      "  File \"c:\\Users\\00105493\\AppData\\Local\\Programs\\Python\\Python310\\lib\\site-packages\\requests\\sessions.py\", line 587, in request\n",
      "    resp = self.send(prep, **send_kwargs)\n",
      "  File \"c:\\Users\\00105493\\AppData\\Local\\Programs\\Python\\Python310\\lib\\site-packages\\requests\\sessions.py\", line 701, in send\n",
      "    r = adapter.send(request, **kwargs)\n",
      "  File \"c:\\Users\\00105493\\AppData\\Local\\Programs\\Python\\Python310\\lib\\site-packages\\requests\\adapters.py\", line 565, in send\n",
      "    raise ConnectionError(e, request=request)\n",
      "requests.exceptions.ConnectionError: HTTPConnectionPool(host='instance-146-118-67-25.nimbus.pawsey.org.au', port=80): Max retries exceeded with url: /data/JSESSION (Caused by NewConnectionError('<urllib3.connection.HTTPConnection object at 0x000001CC7B1CC0A0>: Failed to establish a new connection: [Errno 11001] getaddrinfo failed'))\n",
      "Exception in thread XNATpyKeepAliveThread:\n",
      "Traceback (most recent call last):\n",
      "  File \"c:\\Users\\00105493\\AppData\\Local\\Programs\\Python\\Python310\\lib\\site-packages\\urllib3\\connection.py\", line 174, in _new_conn\n",
      "    conn = connection.create_connection(\n",
      "  File \"c:\\Users\\00105493\\AppData\\Local\\Programs\\Python\\Python310\\lib\\site-packages\\urllib3\\util\\connection.py\", line 72, in create_connection\n",
      "    for res in socket.getaddrinfo(host, port, family, socket.SOCK_STREAM):\n",
      "  File \"c:\\Users\\00105493\\AppData\\Local\\Programs\\Python\\Python310\\lib\\socket.py\", line 955, in getaddrinfo\n",
      "    for res in _socket.getaddrinfo(host, port, family, type, proto, flags):\n",
      "socket.gaierror: [Errno 11001] getaddrinfo failed\n",
      "\n",
      "During handling of the above exception, another exception occurred:\n",
      "\n",
      "Traceback (most recent call last):\n",
      "  File \"c:\\Users\\00105493\\AppData\\Local\\Programs\\Python\\Python310\\lib\\site-packages\\urllib3\\connectionpool.py\", line 703, in urlopen\n",
      "    httplib_response = self._make_request(\n",
      "  File \"c:\\Users\\00105493\\AppData\\Local\\Programs\\Python\\Python310\\lib\\site-packages\\urllib3\\connectionpool.py\", line 398, in _make_request\n",
      "    conn.request(method, url, **httplib_request_kw)\n",
      "  File \"c:\\Users\\00105493\\AppData\\Local\\Programs\\Python\\Python310\\lib\\site-packages\\urllib3\\connection.py\", line 239, in request\n",
      "    super(HTTPConnection, self).request(method, url, body=body, headers=headers)\n",
      "  File \"c:\\Users\\00105493\\AppData\\Local\\Programs\\Python\\Python310\\lib\\http\\client.py\", line 1282, in request\n",
      "    self._send_request(method, url, body, headers, encode_chunked)\n",
      "  File \"c:\\Users\\00105493\\AppData\\Local\\Programs\\Python\\Python310\\lib\\http\\client.py\", line 1328, in _send_request\n",
      "    self.endheaders(body, encode_chunked=encode_chunked)\n",
      "  File \"c:\\Users\\00105493\\AppData\\Local\\Programs\\Python\\Python310\\lib\\http\\client.py\", line 1277, in endheaders\n",
      "    self._send_output(message_body, encode_chunked=encode_chunked)\n",
      "  File \"c:\\Users\\00105493\\AppData\\Local\\Programs\\Python\\Python310\\lib\\http\\client.py\", line 1037, in _send_output\n",
      "    self.send(msg)\n",
      "  File \"c:\\Users\\00105493\\AppData\\Local\\Programs\\Python\\Python310\\lib\\http\\client.py\", line 975, in send\n",
      "    self.connect()\n",
      "  File \"c:\\Users\\00105493\\AppData\\Local\\Programs\\Python\\Python310\\lib\\site-packages\\urllib3\\connection.py\", line 205, in connect\n",
      "    conn = self._new_conn()\n",
      "  File \"c:\\Users\\00105493\\AppData\\Local\\Programs\\Python\\Python310\\lib\\site-packages\\urllib3\\connection.py\", line 186, in _new_conn\n",
      "    raise NewConnectionError(\n",
      "urllib3.exceptions.NewConnectionError: <urllib3.connection.HTTPConnection object at 0x000001CC786828C0>: Failed to establish a new connection: [Errno 11001] getaddrinfo failed\n",
      "\n",
      "During handling of the above exception, another exception occurred:\n",
      "\n",
      "Traceback (most recent call last):\n",
      "  File \"c:\\Users\\00105493\\AppData\\Local\\Programs\\Python\\Python310\\lib\\site-packages\\requests\\adapters.py\", line 489, in send\n",
      "    resp = conn.urlopen(\n",
      "  File \"c:\\Users\\00105493\\AppData\\Local\\Programs\\Python\\Python310\\lib\\site-packages\\urllib3\\connectionpool.py\", line 787, in urlopen\n",
      "    retries = retries.increment(\n",
      "  File \"c:\\Users\\00105493\\AppData\\Local\\Programs\\Python\\Python310\\lib\\site-packages\\urllib3\\util\\retry.py\", line 592, in increment\n",
      "    raise MaxRetryError(_pool, url, error or ResponseError(cause))\n",
      "urllib3.exceptions.MaxRetryError: HTTPConnectionPool(host='instance-146-118-67-25.nimbus.pawsey.org.au', port=80): Max retries exceeded with url: /data/JSESSION (Caused by NewConnectionError('<urllib3.connection.HTTPConnection object at 0x000001CC786828C0>: Failed to establish a new connection: [Errno 11001] getaddrinfo failed'))\n",
      "\n",
      "During handling of the above exception, another exception occurred:\n",
      "\n",
      "Traceback (most recent call last):\n",
      "  File \"c:\\Users\\00105493\\AppData\\Local\\Programs\\Python\\Python310\\lib\\threading.py\", line 1016, in _bootstrap_inner\n",
      "    self.run()\n",
      "  File \"c:\\Users\\00105493\\AppData\\Local\\Programs\\Python\\Python310\\lib\\threading.py\", line 953, in run\n",
      "    self._target(*self._args, **self._kwargs)\n",
      "  File \"c:\\Users\\00105493\\AppData\\Local\\Programs\\Python\\Python310\\lib\\site-packages\\xnat\\session.py\", line 250, in _keepalive_thread_run\n",
      "    self.heartbeat()\n",
      "  File \"c:\\Users\\00105493\\AppData\\Local\\Programs\\Python\\Python310\\lib\\site-packages\\xnat\\session.py\", line 241, in heartbeat\n",
      "    self.get('/data/JSESSION', timeout=10)\n",
      "  File \"c:\\Users\\00105493\\AppData\\Local\\Programs\\Python\\Python310\\lib\\site-packages\\xnat\\session.py\", line 361, in get\n",
      "    response = self.interface.get(uri, timeout=timeout, headers=headers)\n",
      "  File \"c:\\Users\\00105493\\AppData\\Local\\Programs\\Python\\Python310\\lib\\site-packages\\requests\\sessions.py\", line 600, in get\n",
      "    return self.request(\"GET\", url, **kwargs)\n",
      "  File \"c:\\Users\\00105493\\AppData\\Local\\Programs\\Python\\Python310\\lib\\site-packages\\requests\\sessions.py\", line 587, in request\n",
      "    resp = self.send(prep, **send_kwargs)\n",
      "  File \"c:\\Users\\00105493\\AppData\\Local\\Programs\\Python\\Python310\\lib\\site-packages\\requests\\sessions.py\", line 701, in send\n",
      "    r = adapter.send(request, **kwargs)\n",
      "  File \"c:\\Users\\00105493\\AppData\\Local\\Programs\\Python\\Python310\\lib\\site-packages\\requests\\adapters.py\", line 565, in send\n",
      "    raise ConnectionError(e, request=request)\n",
      "requests.exceptions.ConnectionError: HTTPConnectionPool(host='instance-146-118-67-25.nimbus.pawsey.org.au', port=80): Max retries exceeded with url: /data/JSESSION (Caused by NewConnectionError('<urllib3.connection.HTTPConnection object at 0x000001CC786828C0>: Failed to establish a new connection: [Errno 11001] getaddrinfo failed'))\n"
     ]
    }
   ],
   "source": [
    "for subdir in os.listdir(dir):\n",
    "    #check if directory is empty\n",
    "    count = 0\n",
    "    for root_dir, sub_dir, files in os.walk(os.path.join(dir, subdir)):\n",
    "        count += len(files)\n",
    "    if count > 0:\n",
    "        print(\"Zipping: \",os.path.join(dir, subdir))\n",
    "        zip_directory(os.path.join(dir, subdir), os.path.join(dir, subdir) + \".zip\")\n",
    "        print(\"Uploading:\" + os.path.join(dir, subdir) + \".zip\")\n",
    "        prearchive_session = session.services.import_(os.path.join(dir, subdir) + \".zip\", project=project_ID, destination='/prearchive')"
   ]
  },
  {
   "cell_type": "code",
   "execution_count": 4,
   "metadata": {},
   "outputs": [],
   "source": [
    "session.disconnect()"
   ]
  },
  {
   "cell_type": "code",
   "execution_count": null,
   "metadata": {},
   "outputs": [],
   "source": [
    "#Show all Projects\n",
    "# session.projects\n",
    "# Choose a project\n",
    "# project_name = session.projects[project_ID]\n",
    "# #check how many patients\n",
    "# len(project_name.subjects)\n",
    "\n",
    "# #Loop through patients\n",
    "# for subject in project_name.subjects.values():\n",
    "#     print(subject.label)\n",
    "#     break\n",
    "\n",
    "\n",
    "\n",
    "\n",
    "\n",
    "# #Download all patient data\n",
    "# subject = project_name.subjects['MEL00033']\n",
    "# subject.download_dir('//uniwa.uwa.edu.au/userhome/staff3/00105493/Downloads/')\n",
    "# # project.subjects['ANONYMIZ'].experiments['ANONYMIZ'].scans['T'].download('/home/hachterberg/temp/T1.zip')\n",
    "\n",
    "\n",
    "\n",
    "\n",
    "# #access Prearchive and Archive it\n",
    "# prearchive_session = session.services.import_('/home/hachterberg/temp/ANONYMIZ.zip', project='brainimages', destination='/prearchive')\n",
    "# session.prearchive.sessions()\n",
    "# prearchive_session = session.prearchive.sessions()[0]\n",
    "# experiment = prearchive_session.archive(subject='ANONYMIZ3', experiment='ANONYMIZ3')"
   ]
  }
 ],
 "metadata": {
  "kernelspec": {
   "display_name": "Python 3.10.6 64-bit",
   "language": "python",
   "name": "python3"
  },
  "language_info": {
   "codemirror_mode": {
    "name": "ipython",
    "version": 3
   },
   "file_extension": ".py",
   "mimetype": "text/x-python",
   "name": "python",
   "nbconvert_exporter": "python",
   "pygments_lexer": "ipython3",
   "version": "3.10.6"
  },
  "orig_nbformat": 4,
  "vscode": {
   "interpreter": {
    "hash": "a2a23764cab275ce71c1af807da9f08c98f86093193576870195798f319f710c"
   }
  }
 },
 "nbformat": 4,
 "nbformat_minor": 2
}
