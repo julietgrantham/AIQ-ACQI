{
 "cells": [
  {
   "cell_type": "markdown",
   "metadata": {},
   "source": [
    "## check Patient Size, Weight, Post Injection Time"
   ]
  },
  {
   "cell_type": "code",
   "execution_count": 1,
   "metadata": {},
   "outputs": [],
   "source": [
    "import xnat\n",
    "import pydicom\n",
    "from pydicom import dcmread\n",
    "from pydicom.data import get_testdata_file\n",
    "# import dicom\n",
    "import zipfile\n",
    "import os\n",
    "import glob\n",
    "import pandas as pd\n",
    "import itertools\n",
    "import csv"
   ]
  },
  {
   "cell_type": "code",
   "execution_count": 32,
   "metadata": {},
   "outputs": [],
   "source": [
    "# project_ID = \"Melanoma01\"\n",
    "dir = \"\\\\\\\\uniwa.uwa.edu.au\\\\userhome\\\\staff3\\\\00105493\\\\Downloads\\\\MEL01093_MEL01454\\\\MEL01093_MEL01454\"\n",
    "# dir = \"D:\\\\Prostate01\\\\PSMA_DATA_ANNON_angel_too_deidentified+rt struct\"\n",
    "# user = \"JulietLi\"\n",
    "# password = \"707199MS_ms\"\n",
    "# #Connect to XNAT session\n",
    "# # session = xnat.connect('http://aiqprdeauxnat001.australiaeast.cloudapp.azure.com:8080/xnat-web-1.8.5', user='admin', password='...')\n",
    "# session = xnat.connect('http://instance-146-118-67-25.nimbus.pawsey.org.au', user=user, password=password)\n",
    "list_all = []\n",
    "list_error = []\n",
    "file_extension = '*.dcm'"
   ]
  },
  {
   "cell_type": "code",
   "execution_count": 33,
   "metadata": {},
   "outputs": [
    {
     "name": "stdout",
     "output_type": "stream",
     "text": [
      "Now Procrssing: MEL01093_29032019\n",
      "Using: 3\n",
      "\n",
      "Using: 4\n",
      "\n",
      "Now Procrssing: MEL01093_31122018\n",
      "Using: 3\n",
      "\n",
      "Using: 4\n",
      "\n",
      "Now Procrssing: MEL01108_17092019\n",
      "Using: 102\n",
      "\n",
      "Using: 3\n",
      "\n",
      "Now Procrssing: MEL01108_21112019\n",
      "Using: 102\n",
      "\n",
      "Using: 3\n",
      "\n",
      "Now Procrssing: MEL01193_03052019\n",
      "Using: 3\n",
      "\n",
      "Using: 4\n",
      "\n",
      "Now Procrssing: MEL01193_07082019\n",
      "Using: 103\n",
      "\n",
      "Using: 5\n",
      "\n",
      "Now Procrssing: MEL01212_16092019\n",
      "Using: 102\n",
      "\n",
      "Using: 3\n",
      "\n",
      "Now Procrssing: MEL01212_22052019\n",
      "Using: 3\n",
      "\n",
      "Using: 4\n",
      "\n",
      "Now Procrssing: MEL01454_01042021\n",
      "Using: 3\n",
      "\n",
      "Using: 4\n",
      "\n",
      "Now Procrssing: MEL01454_04012021\n",
      "Using: 3\n",
      "\n",
      "Using: 4\n",
      "\n"
     ]
    }
   ],
   "source": [
    "for subdir in os.listdir(dir):\n",
    "    print(\"Now Procrssing: \" + str(subdir))\n",
    "    # try:\n",
    "    # old_id = \"\"\n",
    "    list_each = []\n",
    "    for scans in os.listdir(os.path.join(dir, subdir)):\n",
    "        print(\"Using: \" + str(scans))\n",
    "        for dicom in os.listdir(os.path.join(dir, subdir, scans)):\n",
    "            print()\n",
    "            list_each = []\n",
    "            dicom_path =  glob.glob(dir +\"\\\\\"+ subdir + \"\\\\\" + scans + \"\\\\\" + dicom + \"\\\\\" + file_extension)[0]\n",
    "            ds = pydicom.read_file(dicom_path)\n",
    "            # dicom_stack = [pydicom.read_file(f) for f in glob.glob(dir +\"\\\\\"+ subdir + \"\\\\\" + scans + \"\\\\\" + \"DICOM\" + \"\\\\\" +file_extension)]\n",
    "            pid = ds.PatientID\n",
    "            p_modality = ds.Modality\n",
    "            p_sex = ds.PatientSex\n",
    "            if  [0x0010, 0x1020] in ds:\n",
    "                p_height = ds.PatientSize\n",
    "            else:\n",
    "                p_height = \"\"\n",
    "            p_weight = ds.PatientWeight\n",
    "            p_SeriesDate = ds.SeriesDate\n",
    "            p_SeriesTime = ds.SeriesTime\n",
    "            if [0x0018, 0x1072] in ds:\n",
    "                p_RadiopharmaceuticalStartTime  = ds[0x0018, 0x1072].value\n",
    "            elif [0x0054, 0x0016] in ds:\n",
    "                p_RadiopharmaceuticalStartTime = ds[0x0054, 0x0016][0][0x0018, 0x1072].value\n",
    "            else:\n",
    "                p_RadiopharmaceuticalStartTime = \"\"\n",
    "            list_each.extend([pid, p_modality, p_sex, p_weight, p_height, p_SeriesDate, p_SeriesTime, p_RadiopharmaceuticalStartTime, subdir, scans])\n",
    "            if len(list_each) != 0:\n",
    "                list_all.append(list_each)   "
   ]
  },
  {
   "cell_type": "code",
   "execution_count": 23,
   "metadata": {},
   "outputs": [],
   "source": [
    "# list_all\n",
    "# list_error"
   ]
  },
  {
   "cell_type": "code",
   "execution_count": 34,
   "metadata": {},
   "outputs": [],
   "source": [
    "list_all.sort()\n",
    "list_all = list(list_all for list_all,_ in itertools.groupby(list_all))\n"
   ]
  },
  {
   "cell_type": "code",
   "execution_count": 35,
   "metadata": {},
   "outputs": [],
   "source": [
    "df = pd.DataFrame(list_all, columns=['Anom', 'Modality', 'Sex', 'Weight', 'height', 'SeriesDate', 'SeriesTime', 'RadiopharmaceuticalStartTime', 'ScanID', 'ScanName'])"
   ]
  },
  {
   "cell_type": "code",
   "execution_count": 36,
   "metadata": {},
   "outputs": [],
   "source": [
    "df.to_csv(\"\\\\\\\\uniwa.uwa.edu.au\\\\userhome\\\\staff3\\\\00105493\\\\My Documents\\\\Testing\\\\MEL_Testing_Patient_Details_addin.csv\")"
   ]
  }
 ],
 "metadata": {
  "kernelspec": {
   "display_name": "Python 3.10.6 64-bit",
   "language": "python",
   "name": "python3"
  },
  "language_info": {
   "codemirror_mode": {
    "name": "ipython",
    "version": 3
   },
   "file_extension": ".py",
   "mimetype": "text/x-python",
   "name": "python",
   "nbconvert_exporter": "python",
   "pygments_lexer": "ipython3",
   "version": "3.10.6"
  },
  "orig_nbformat": 4,
  "vscode": {
   "interpreter": {
    "hash": "a2a23764cab275ce71c1af807da9f08c98f86093193576870195798f319f710c"
   }
  }
 },
 "nbformat": 4,
 "nbformat_minor": 2
}
