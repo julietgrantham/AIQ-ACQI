{
 "cells": [
  {
   "cell_type": "markdown",
   "metadata": {},
   "source": [
    "#### This script is to read and analysis the PDF reports "
   ]
  },
  {
   "cell_type": "code",
   "execution_count": 12,
   "metadata": {},
   "outputs": [],
   "source": [
    "from PyPDF2 import PdfFileReader, PdfFileWriter\n",
    "import PyPDF2\n",
    "from tika import parser # pip install tika"
   ]
  },
  {
   "cell_type": "code",
   "execution_count": 3,
   "metadata": {},
   "outputs": [],
   "source": [
    "def extract_information(pdf_path):\n",
    "    with open(pdf_path, 'rb') as f:\n",
    "        pdf = PdfFileReader(f)\n",
    "        information = pdf.getDocumentInfo()\n",
    "        number_of_pages = pdf.getNumPages()\n",
    "\n",
    "    txt = f\"\"\"\n",
    "    Information about {pdf_path}: \n",
    "\n",
    "    Author: {information.author}\n",
    "    Creator: {information.creator}\n",
    "    Producer: {information.producer}\n",
    "    Subject: {information.subject}\n",
    "    Title: {information.title}\n",
    "    Number of pages: {number_of_pages}\n",
    "    \"\"\"\n",
    "\n",
    "    print(txt)\n",
    "    return information"
   ]
  },
  {
   "cell_type": "code",
   "execution_count": 6,
   "metadata": {},
   "outputs": [],
   "source": [
    "def merge_pdfs(paths, output):\n",
    "    pdf_writer = PdfFileWriter()\n",
    "\n",
    "    for path in paths:\n",
    "        pdf_reader = PdfFileReader(path)\n",
    "        for page in range(pdf_reader.getNumPages()):\n",
    "            # Add each page to the writer object\n",
    "            pdf_writer.addPage(pdf_reader.getPage(page))\n",
    "\n",
    "    # Write out the merged PDF\n",
    "    with open(output, 'wb') as out:\n",
    "        pdf_writer.write(out)"
   ]
  },
  {
   "cell_type": "code",
   "execution_count": 5,
   "metadata": {},
   "outputs": [],
   "source": [
    "def rotate_pages(pdf_path):\n",
    "    pdf_writer = PdfFileWriter()\n",
    "    pdf_reader = PdfFileReader(pdf_path)\n",
    "    # Rotate page 90 degrees to the right\n",
    "    page_1 = pdf_reader.getPage(0).rotateClockwise(90)\n",
    "    pdf_writer.addPage(page_1)\n",
    "    # Rotate page 90 degrees to the left\n",
    "    page_2 = pdf_reader.getPage(1).rotateCounterClockwise(90)\n",
    "    pdf_writer.addPage(page_2)\n",
    "    # Add a page in normal orientation\n",
    "    pdf_writer.addPage(pdf_reader.getPage(2))\n",
    "\n",
    "    with open('rotate_pages.pdf', 'wb') as fh:\n",
    "        pdf_writer.write(fh)"
   ]
  },
  {
   "cell_type": "code",
   "execution_count": 7,
   "metadata": {},
   "outputs": [],
   "source": [
    "def split(path, name_of_split):\n",
    "    pdf = PdfFileReader(path)\n",
    "    for page in range(pdf.getNumPages()):\n",
    "        pdf_writer = PdfFileWriter()\n",
    "        pdf_writer.addPage(pdf.getPage(page))\n",
    "\n",
    "        output = f'{name_of_split}{page}.pdf'\n",
    "        with open(output, 'wb') as output_pdf:\n",
    "            pdf_writer.write(output_pdf)"
   ]
  },
  {
   "cell_type": "code",
   "execution_count": 8,
   "metadata": {},
   "outputs": [],
   "source": [
    "def create_watermark(input_pdf, output, watermark):\n",
    "    watermark_obj = PdfFileReader(watermark)\n",
    "    watermark_page = watermark_obj.getPage(0)\n",
    "\n",
    "    pdf_reader = PdfFileReader(input_pdf)\n",
    "    pdf_writer = PdfFileWriter()\n",
    "\n",
    "    # Watermark all the pages\n",
    "    for page in range(pdf_reader.getNumPages()):\n",
    "        page = pdf_reader.getPage(page)\n",
    "        page.mergePage(watermark_page)\n",
    "        pdf_writer.addPage(page)\n",
    "\n",
    "    with open(output, 'wb') as out:\n",
    "        pdf_writer.write(out)"
   ]
  },
  {
   "cell_type": "code",
   "execution_count": 9,
   "metadata": {},
   "outputs": [],
   "source": [
    "def add_encryption(input_pdf, output_pdf, password):\n",
    "    pdf_writer = PdfFileWriter()\n",
    "    pdf_reader = PdfFileReader(input_pdf)\n",
    "\n",
    "    for page in range(pdf_reader.getNumPages()):\n",
    "        pdf_writer.addPage(pdf_reader.getPage(page))\n",
    "\n",
    "    pdf_writer.encrypt(user_pwd=password, owner_pwd=None, \n",
    "                       use_128bit=True)\n",
    "\n",
    "    with open(output_pdf, 'wb') as fh:\n",
    "        pdf_writer.write(fh)"
   ]
  },
  {
   "cell_type": "code",
   "execution_count": 15,
   "metadata": {},
   "outputs": [],
   "source": [
    "# path = '\\\\\\\\uniwa.uwa.edu.au\\\\userhome\\\\staff3\\\\00105493\\\\My Documents\\\\AIQ\\\\01. Development\\\\MEL reports\\\\MEL00056\\\\01042015.pdf'\n",
    "# extract_information(path)"
   ]
  },
  {
   "cell_type": "code",
   "execution_count": 14,
   "metadata": {},
   "outputs": [],
   "source": [
    "# # Using tika parse\n",
    "# path = '\\\\\\\\uniwa.uwa.edu.au\\\\userhome\\\\staff3\\\\00105493\\\\My Documents\\\\AIQ\\\\01. Development\\\\MEL reports\\\\MEL00056\\\\01042015.pdf'\n",
    "# raw = parser.from_file(path)\n",
    "# print(raw['content'])"
   ]
  },
  {
   "cell_type": "code",
   "execution_count": 18,
   "metadata": {},
   "outputs": [],
   "source": [
    "# Using PDFReader\n",
    "\n",
    "path = '\\\\\\\\uniwa.uwa.edu.au\\\\userhome\\\\staff3\\\\00105493\\\\My Documents\\\\AIQ\\\\01. Development\\\\MEL reports\\\\MEL00056\\\\01042015.pdf'\n",
    "reader = PyPDF2.PdfReader(path)\n",
    "text = \"\"\n",
    "for page in reader.pages:\n",
    "    text += page.extract_text() + \"\\n\""
   ]
  },
  {
   "cell_type": "code",
   "execution_count": 19,
   "metadata": {},
   "outputs": [
    {
     "name": "stdout",
     "output_type": "stream",
     "text": [
      "Page No: 1 of 2\n",
      "A8536726_JENNIFER JOHNSTON\n",
      "Printed Date:\n",
      "17/10/2022\n",
      "Name\n",
      ": JOHNSTON, JENNIFER\n",
      "Address\n",
      ":\n",
      "UMRN\n",
      ": A8536726\n",
      "Date of Birth : 30/11/1944\n",
      "Origin\n",
      ": QEPETPO\n",
      "Date of Study: 01/04/2015\n",
      "Ref:\n",
      "ka\n",
      "Dose: 305 MBq F18FDG\n",
      "BSL: 5.4 mmol/L\n",
      "Field of view: Vertex to upper thighs.\n",
      "Correlative imaging: PET-CT 9/02/15.\n",
      "Low dose CT performed for attenuation correction and anatomical localisation\n",
      "CLINICAL NOTES: Left chest wall melanoma with subcutaneous metastasis resected November\n",
      "2014. PET-CT 9/02/15 showed intense uptake left T6 pedicle, suspicious for skeletal metastasis.\n",
      "Now on Dabrafenib and Trametinib. For progress assessment.\n",
      "REPORT:\n",
      "Head & Neck: No focal abnormalities are identified within the brain. No abnormalities\n",
      "are noted within the neck, supraclavicular locations or within the axillae.\n",
      "Chest:\n",
      "No focal abnormalities are identified within the lung fields, hilar regions or\n",
      "mediastinum. No abnormalities are identified within the breasts.\n",
      "Abdomen & Pelvis: No abnormalities are identified within the liver, spleen, pancreas,\n",
      "adrenals or kidneys. No focal abnormalities are seen within the abdomen, pelvis or inguinal\n",
      "locations.\n",
      "Musculoskeletal: The previously identified intense uptake within the left pedicle of T6 is\n",
      "no longer identified. No focal abnormalities are identified within the visualised skeleton.\n",
      "There is a focus of mild grade subcutaneous uptake within the lateral aspect of the\n",
      "proximal right thigh. No focal cutaneous abnormalities are otherwise identified. There is\n",
      "mild grade uptake associated with bilateral lower limb venous varicosities.\n",
      "When compared with the previous study dated 9/02/15, intense uptake at the left pedicle at\n",
      "T6 is no longer apparent, in keeping with a favourable response to therapy.\n",
      "INTERPRETATION:\n",
      "1.\n",
      "No focal abnormalities are otherwise identified to suggest likely sites of\n",
      "metastatic melanoma.\n",
      "2.\n",
      "Previously identified intense uptake at the left T6 pedicle is no longer\n",
      "apparent in keeping with treatment response.\n",
      "3.\n",
      "Mild grade uptake within the skin of the proximal lateral right thigh may be\n",
      "due to an inflammatory lesion. Clinical correlation is suggested. No\n",
      "significant abnormalities are otherwise identified.\n",
      "Dr Russell Troedson\n",
      "Study:\n",
      "PET WB Melanoma\n",
      "90 GRANT STREET\n",
      "6011 COTTESLOE\n",
      "Dr. Michael John Millward\n",
      "SIR CHARLES GAIRDNER HOSPITAL\n",
      "HOSPITAL AVENUE\n",
      "6009 NEDLANDS\n",
      "Referred by:\n",
      "Page No: 2 of 2\n",
      "A8536726_JENNIFER JOHNSTON\n",
      "Printed Date:\n",
      "17/10/2022\n",
      "Reviewed by: Dr\n",
      "Nuclear Medicine Physician\n",
      "Report status Validated\n",
      "(Y61553)\n",
      "\n"
     ]
    }
   ],
   "source": [
    "import fitz # install using: pip install PyMuPDF\n",
    "\n",
    "path = '\\\\\\\\uniwa.uwa.edu.au\\\\userhome\\\\staff3\\\\00105493\\\\My Documents\\\\AIQ\\\\01. Development\\\\MEL reports\\\\MEL00056\\\\01042015.pdf'\n",
    "with fitz.open(path) as doc:\n",
    "    text = \"\"\n",
    "    for page in doc:\n",
    "        text += page.get_text()\n",
    "\n",
    "print(text)"
   ]
  }
 ],
 "metadata": {
  "kernelspec": {
   "display_name": "Python 3.10.6 64-bit",
   "language": "python",
   "name": "python3"
  },
  "language_info": {
   "codemirror_mode": {
    "name": "ipython",
    "version": 3
   },
   "file_extension": ".py",
   "mimetype": "text/x-python",
   "name": "python",
   "nbconvert_exporter": "python",
   "pygments_lexer": "ipython3",
   "version": "3.10.6"
  },
  "orig_nbformat": 4,
  "vscode": {
   "interpreter": {
    "hash": "a2a23764cab275ce71c1af807da9f08c98f86093193576870195798f319f710c"
   }
  }
 },
 "nbformat": 4,
 "nbformat_minor": 2
}
