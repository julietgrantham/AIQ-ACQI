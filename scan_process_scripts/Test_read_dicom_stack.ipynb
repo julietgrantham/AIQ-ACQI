{
 "cells": [
  {
   "cell_type": "code",
   "execution_count": 27,
   "metadata": {},
   "outputs": [],
   "source": [
    "import glob\n",
    "import pydicom\n",
    "import os\n",
    "\n",
    "if __name__ == '__main__':\n",
    "    root_dir = 'D:\\\\DH DOTATATE\\\\DH DOTATATE\\\\'\n",
    "    # root_dir = 'D:\\\\Melanoma01\\\\RT_TraningCohort_convert_PT\\\\Final_Mel01\\\\MEL00056_06092016\\\\2016-09__Studies\\\\MEL00056_MEL00056_RTst_2016-09-06_121022_PET.WB.Melanoma_Final_n1__00000\\\\'\n",
    "    file_extension = '*.dcm'\n",
    "    # print(glob.glob(root_dir + file_extension))\n",
    "    dicom_stack = [pydicom.read_file(f) for f in glob.glob(root_dir + file_extension)]\n",
    "\n",
    "\\\n",
    "    # assuming the dicom headers are same and correct, extract the UMRN\n",
    "    # p_umrNumber = dicom_stack[1].OriginalAttributeSequence[0].ModifiedAttributeSequence[0].PatientID\n",
    "    # pid = dicom_stack.PatientID\n",
    "    # p_sex = dicom_stack.PatientSex\n",
    "    # p_height = dicom_stack.PatientHeight\n",
    "    # p_weight = dicom_stack.PatientWeight\n",
    "    # print(dicom_stack)"
   ]
  },
  {
   "cell_type": "code",
   "execution_count": 28,
   "metadata": {},
   "outputs": [
    {
     "data": {
      "text/plain": [
       "'DH1765230 Pre-Lutate'"
      ]
     },
     "execution_count": 28,
     "metadata": {},
     "output_type": "execute_result"
    }
   ],
   "source": [
    "ds = dicom_stack[0]\n",
    "ds.PatientID\n",
    "ds.PatientName"
   ]
  },
  {
   "cell_type": "code",
   "execution_count": 25,
   "metadata": {},
   "outputs": [],
   "source": [
    "ds.PatientName = 'DH1765230 Pre-Lutate'\n",
    "ds.PatientID = 'K107842'"
   ]
  },
  {
   "cell_type": "code",
   "execution_count": 26,
   "metadata": {},
   "outputs": [],
   "source": [
    "ds.save_as(os.path.join(root_dir,'db01_20211104_rois_nrrd_to_dicom.dcm'))"
   ]
  }
 ],
 "metadata": {
  "kernelspec": {
   "display_name": "Python 3.10.6 64-bit",
   "language": "python",
   "name": "python3"
  },
  "language_info": {
   "codemirror_mode": {
    "name": "ipython",
    "version": 3
   },
   "file_extension": ".py",
   "mimetype": "text/x-python",
   "name": "python",
   "nbconvert_exporter": "python",
   "pygments_lexer": "ipython3",
   "version": "3.10.6"
  },
  "orig_nbformat": 4,
  "vscode": {
   "interpreter": {
    "hash": "a2a23764cab275ce71c1af807da9f08c98f86093193576870195798f319f710c"
   }
  }
 },
 "nbformat": 4,
 "nbformat_minor": 2
}
